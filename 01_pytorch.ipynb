{
 "cells": [
  {
   "cell_type": "markdown",
   "metadata": {},
   "source": [
    "### Part 01 - Pytorch"
   ]
  },
  {
   "attachments": {},
   "cell_type": "markdown",
   "metadata": {},
   "source": [
    "## PyTorch Workflow"
   ]
  },
  {
   "attachments": {},
   "cell_type": "markdown",
   "metadata": {},
   "source": [
    "#### Standard Imports ####"
   ]
  },
  {
   "cell_type": "code",
   "execution_count": 236,
   "metadata": {},
   "outputs": [
    {
     "data": {
      "text/plain": [
       "'1.13.1'"
      ]
     },
     "execution_count": 236,
     "metadata": {},
     "output_type": "execute_result"
    }
   ],
   "source": [
    "import torch\n",
    "from torch import nn # nn contains all of pytorch's buildign blocks for neural networks\n",
    "import matplotlib.pyplot as plt\n",
    "\n",
    "#Check PyTorch version\n",
    "torch.__version__\n"
   ]
  },
  {
   "attachments": {},
   "cell_type": "markdown",
   "metadata": {},
   "source": [
    "### Building first model ###\n",
    "- Using Torch NN"
   ]
  },
  {
   "attachments": {},
   "cell_type": "markdown",
   "metadata": {},
   "source": [
    "## 1. Data (preparing and loading) ##\n",
    "Data can be many things!\n",
    "- Excel sheet\n",
    "- Images\n",
    "- Videos\n",
    "- Audio\n",
    "\n",
    "Machine Learning is a game of two parts: \n",
    "1. Get data into some numerical representation\n",
    "2. Build a model to lean patterns in that numerical representation\n",
    "\n",
    "Inputs &rarr; Numerical Encoing &rarr; Learns representation(network) &rarr; Representation Outputs &rarr; Interpret Outputs\n",
    "\n",
    "To show this, start with linear regression."
   ]
  },
  {
   "attachments": {},
   "cell_type": "markdown",
   "metadata": {},
   "source": [
    "### Use Linear regression to make a straight line with known paramters ###"
   ]
  },
  {
   "cell_type": "code",
   "execution_count": 237,
   "metadata": {},
   "outputs": [
    {
     "data": {
      "text/plain": [
       "(tensor([[0.0000],\n",
       "         [0.0200],\n",
       "         [0.0400],\n",
       "         [0.0600],\n",
       "         [0.0800],\n",
       "         [0.1000],\n",
       "         [0.1200],\n",
       "         [0.1400],\n",
       "         [0.1600],\n",
       "         [0.1800]]),\n",
       " tensor([[0.3000],\n",
       "         [0.3140],\n",
       "         [0.3280],\n",
       "         [0.3420],\n",
       "         [0.3560],\n",
       "         [0.3700],\n",
       "         [0.3840],\n",
       "         [0.3980],\n",
       "         [0.4120],\n",
       "         [0.4260]]))"
      ]
     },
     "execution_count": 237,
     "metadata": {},
     "output_type": "execute_result"
    }
   ],
   "source": [
    "# Create *known* parameters :    Y = A + BX\n",
    "# Let weight be B  and bias be A\n",
    "weight = 0.7\n",
    "bias = 0.3\n",
    "\n",
    "#Create\n",
    "start = 0\n",
    "end = 1\n",
    "step = 0.02\n",
    "X = torch.arange(start, end, step).unsqueeze(dim=1) #gets rid of extra container-like bracket\n",
    "y = weight * X + bias    #essentially  y = Bx+ A\n",
    "\n",
    "X[:10], y[:10]"
   ]
  },
  {
   "cell_type": "code",
   "execution_count": 238,
   "metadata": {},
   "outputs": [
    {
     "data": {
      "text/plain": [
       "(50, 50)"
      ]
     },
     "execution_count": 238,
     "metadata": {},
     "output_type": "execute_result"
    }
   ],
   "source": [
    "len(X), len(y)"
   ]
  },
  {
   "attachments": {},
   "cell_type": "markdown",
   "metadata": {},
   "source": [
    "### Splitting data into training and test sets (one of the most important concepts in machine learning in general) ###\n",
    "\n",
    "Typically:\n",
    "* Traning set is about 60-80% (always used in ML)\n",
    "* Validation set is about 10-20%  (not necessary for all forms of ML)\n",
    "* Testing set is about 10-20%  (always used in ML)\n",
    "\n",
    "\n",
    "Create training and test data set with our data:"
   ]
  },
  {
   "cell_type": "code",
   "execution_count": 239,
   "metadata": {},
   "outputs": [
    {
     "data": {
      "text/plain": [
       "(40, 40, 10, 10)"
      ]
     },
     "execution_count": 239,
     "metadata": {},
     "output_type": "execute_result"
    }
   ],
   "source": [
    "# Create a train/test split\n",
    "train_split = int(0.8 * len(X))\n",
    "X_train, y_train = X[:train_split], y[:train_split]\n",
    "X_test, y_test = X[train_split:], y[train_split:]\n",
    "#Validate training - to - testing ratio\n",
    "len(X_train), len(y_train), len(X_test), len(y_test)\n"
   ]
  },
  {
   "attachments": {},
   "cell_type": "markdown",
   "metadata": {},
   "source": [
    "### Useful Plot Function: ###"
   ]
  },
  {
   "cell_type": "code",
   "execution_count": 240,
   "metadata": {},
   "outputs": [],
   "source": [
    "def plot_predictions(train_data=X_train, \n",
    "                     train_labels=y_train,\n",
    "                     test_data=X_test,\n",
    "                     test_labels=y_test,\n",
    "                     predictions=None):\n",
    "                     \n",
    "    \"\"\"\n",
    "    Plots training data, test data and compares predictions.\n",
    "    \"\"\"\n",
    "    plt.figure(figsize=(10,7))\n",
    "\n",
    "    #Plot training data in blue\n",
    "    plt.scatter(train_data, train_labels, c=\"b\", s=4, label=\"Training Data\")\n",
    "\n",
    "    #Plot test data in green\n",
    "    plt.scatter(test_data, test_labels, c=\"g\", s=4, label=\"Testing data\")\n",
    "\n",
    "    #Check if the model yields a prediction\n",
    "    if predictions is not None:\n",
    "        #Plot the predictions if they exist\n",
    "        plt.scatter(test_data, predictions, c=\"r\", s=4, label=\"Predictions\")\n",
    "    #Show the Legend\n",
    "    plt.legend(prop={\"size\":14})\n"
   ]
  },
  {
   "cell_type": "code",
   "execution_count": 241,
   "metadata": {},
   "outputs": [
    {
     "data": {
      "image/png": "[encoded data removed]",
      "text/plain": [
       "<Figure size 1000x700 with 1 Axes>"
      ]
     },
     "metadata": {},
     "output_type": "display_data"
    }
   ],
   "source": [
    "plot_predictions()"
   ]
  },
  {
   "attachments": {},
   "cell_type": "markdown",
   "metadata": {},
   "source": [
    "## 2. Build model\n",
    "\n",
    "First Linear regression PyTorch model!\n",
    "\n",
    "what the model does:\n",
    "* Start with random values (weight & bias)\n",
    "* Look at training data and adjust the random values to better represent(or get closer to) the ideal values (the weight and bias values we used to create training and testing data!)\n",
    "\n",
    "How does it do so?\n",
    "Through two main algorithms:\n",
    "1. Gradient Descent\n",
    "2. Backpropagation"
   ]
  },
  {
   "cell_type": "code",
   "execution_count": 242,
   "metadata": {},
   "outputs": [],
   "source": [
    "from torch import nn\n",
    "# Create linear regression model class\n",
    "class LinearRegressionModel(nn.Module): # <- almost everything in PyTorch inherits nn.Module\n",
    "    def __init__(self):\n",
    "        super().__init__()\n",
    "        self.weights = nn.Parameter(torch.randn(1, \n",
    "                                                 requires_grad=True,\n",
    "                                                 dtype=torch.float))\n",
    "        self.bias = nn.Parameter(torch.randn(1, \n",
    "                                                 requires_grad=True,\n",
    "                                                 dtype=torch.float))  \n",
    "    #Forward emthod to define the computation in the model\n",
    "    def forward(self, x: torch.Tensor) -> torch.Tensor: # <- \"x\" is the input data\n",
    "        return self.weights * x + self.bias    #this is effectively the Linear regression formula                                                                           \n"
   ]
  },
  {
   "attachments": {},
   "cell_type": "markdown",
   "metadata": {},
   "source": [
    "The forward method has to be overridden when using nn.Module"
   ]
  },
  {
   "attachments": {},
   "cell_type": "markdown",
   "metadata": {},
   "source": [
    "### PyTorch model building essentials ###\n",
    "* `torch.nn` - contains all of the buildings for computational graphs (a neural network can be considered a computational graph)\n",
    "* `torch.nn.parameter` - what parameters should our model try and elarn, often a PyTorch layer from torch.nn will set these for us\n",
    "* `torch.nn.module` - The base class for all neural network modules, if you subclass it, you should overwrite `forward()`\n",
    "* `torch.optim` - this where the optimizers in PyTorch live, they will help with gradient descent\n",
    "* `def forward()` - All nn.Module subclasses require you t overwrite forward(), this method defines what happens in the forward computation\n",
    "\n"
   ]
  },
  {
   "attachments": {},
   "cell_type": "markdown",
   "metadata": {},
   "source": [
    "### Checking the contents of our PyTorch model\n",
    "\n",
    "Now we've created a model, let's see what's inside ...\n",
    "So we can check our model paramters or what's inside our model using `.paramters()`"
   ]
  },
  {
   "cell_type": "code",
   "execution_count": 243,
   "metadata": {},
   "outputs": [
    {
     "data": {
      "text/plain": [
       "(tensor([0.3367]), <torch._C.Generator at 0x2aa14f28290>)"
      ]
     },
     "execution_count": 243,
     "metadata": {},
     "output_type": "execute_result"
    }
   ],
   "source": [
    "a = torch.randn(1)\n",
    "b = torch.manual_seed(42)\n",
    "a, b"
   ]
  },
  {
   "cell_type": "code",
   "execution_count": 244,
   "metadata": {},
   "outputs": [
    {
     "data": {
      "text/plain": [
       "[Parameter containing:\n",
       " tensor([0.3367], requires_grad=True),\n",
       " Parameter containing:\n",
       " tensor([0.1288], requires_grad=True)]"
      ]
     },
     "execution_count": 244,
     "metadata": {},
     "output_type": "execute_result"
    }
   ],
   "source": [
    "#Create a random seed\n",
    "torch.manual_seed(42)\n",
    "\n",
    "#Create an instance of the model (this is  asubclass of nn.Module)\n",
    "model_0 = LinearRegressionModel()\n",
    "#Check out the parameters\n",
    "list(model_0.parameters())"
   ]
  },
  {
   "cell_type": "code",
   "execution_count": 245,
   "metadata": {},
   "outputs": [
    {
     "data": {
      "text/plain": [
       "OrderedDict([('weights', tensor([0.3367])), ('bias', tensor([0.1288]))])"
      ]
     },
     "execution_count": 245,
     "metadata": {},
     "output_type": "execute_result"
    }
   ],
   "source": [
    "# List named paramters\n",
    "model_0.state_dict()\n"
   ]
  },
  {
   "cell_type": "code",
   "execution_count": 246,
   "metadata": {},
   "outputs": [
    {
     "data": {
      "text/plain": [
       "(0.7, 0.3)"
      ]
     },
     "execution_count": 246,
     "metadata": {},
     "output_type": "execute_result"
    }
   ],
   "source": [
    "#\"ideal values\"\n",
    "weight, bias  # we will try to get the values to \"learn\" these values throuh gradient descent and backpropagation"
   ]
  },
  {
   "attachments": {},
   "cell_type": "markdown",
   "metadata": {},
   "source": [
    "### Making rpedictions using `torch.inference_mode()`\n",
    "\n",
    "To check our model's predictive power, let's see how well it predicts `y_test` based on `X_test`.\n",
    "\n",
    "When we pass data through our model, it's going to run it through the `forward()` method.\n"
   ]
  },
  {
   "cell_type": "code",
   "execution_count": 247,
   "metadata": {},
   "outputs": [
    {
     "data": {
      "text/plain": [
       "(tensor([[0.8000],\n",
       "         [0.8200],\n",
       "         [0.8400],\n",
       "         [0.8600],\n",
       "         [0.8800],\n",
       "         [0.9000],\n",
       "         [0.9200],\n",
       "         [0.9400],\n",
       "         [0.9600],\n",
       "         [0.9800]]),\n",
       " tensor([[0.8600],\n",
       "         [0.8740],\n",
       "         [0.8880],\n",
       "         [0.9020],\n",
       "         [0.9160],\n",
       "         [0.9300],\n",
       "         [0.9440],\n",
       "         [0.9580],\n",
       "         [0.9720],\n",
       "         [0.9860]]))"
      ]
     },
     "execution_count": 247,
     "metadata": {},
     "output_type": "execute_result"
    }
   ],
   "source": [
    "X_test, y_test"
   ]
  },
  {
   "cell_type": "code",
   "execution_count": 248,
   "metadata": {},
   "outputs": [
    {
     "data": {
      "text/plain": [
       "(tensor([[0.3982],\n",
       "         [0.4049],\n",
       "         [0.4116],\n",
       "         [0.4184],\n",
       "         [0.4251],\n",
       "         [0.4318],\n",
       "         [0.4386],\n",
       "         [0.4453],\n",
       "         [0.4520],\n",
       "         [0.4588]]),\n",
       " 'COMPARES TO',\n",
       " tensor([[0.8600],\n",
       "         [0.8740],\n",
       "         [0.8880],\n",
       "         [0.9020],\n",
       "         [0.9160],\n",
       "         [0.9300],\n",
       "         [0.9440],\n",
       "         [0.9580],\n",
       "         [0.9720],\n",
       "         [0.9860]]))"
      ]
     },
     "execution_count": 248,
     "metadata": {},
     "output_type": "execute_result"
    }
   ],
   "source": [
    "# Make predictions with model - MANAGE CONTEXT TO INFERENCE MODE (offloads other stuff that isn't really needed)\n",
    "# Inference mode gets rid of gradient tracking and stuff\n",
    "with torch.inference_mode():\n",
    "    y_preds = model_0(X_test)\n",
    "    \n",
    "y_preds, \"COMPARES TO\" ,y_test\n"
   ]
  },
  {
   "cell_type": "code",
   "execution_count": 249,
   "metadata": {},
   "outputs": [
    {
     "data": {
      "image/png": "[encoded data removed]",
      "text/plain": [
       "<Figure size 1000x700 with 1 Axes>"
      ]
     },
     "metadata": {},
     "output_type": "display_data"
    }
   ],
   "source": [
    "plot_predictions(predictions=y_preds)"
   ]
  },
  {
   "attachments": {},
   "cell_type": "markdown",
   "metadata": {},
   "source": [
    "### LAST TIME STAMP: 5:33:39"
   ]
  },
  {
   "attachments": {},
   "cell_type": "markdown",
   "metadata": {},
   "source": [
    "## 3. Train Model\n",
    "\n",
    "The whole idea of training is for a model to move from some *unkown* paramters(these may be random) to some known paramters.\n",
    "\n",
    "Or in other words from a poor representation of the data to a better representation of the data.\n",
    "\n",
    "One way to measure how poor or how wrong your models predictions are is to use a loss function.\n",
    "\n",
    "* Note: Loss function may also be called cost function or criterion in different areas. For our case, we're going to refer to it as a loss functions.\n",
    "\n",
    "Things we need to train:\n",
    "\n",
    "* **Loss functions:** A function to measure how wrong your model's prections are to the ideal outputs, so lower is better.\n",
    "* **Optimizer:** Takes into account the loss of a model and adjusts the model's parameters(e.g weight and bias) to improve the loss function.\n",
    "    * inside of our optimizer:\n",
    "        * `params` - the model parameters that you want to optimize\n",
    "        * `lr` - learning rate that is used to adjust the loss function for backpropagation\n",
    "\n",
    "\n",
    "And specifically for PyTorch, we need:\n",
    "* A training loop\n",
    "* A testing loop\n",
    "\n",
    "\n",
    "\n"
   ]
  },
  {
   "cell_type": "code",
   "execution_count": 250,
   "metadata": {},
   "outputs": [
    {
     "data": {
      "text/plain": [
       "[Parameter containing:\n",
       " tensor([0.3367], requires_grad=True),\n",
       " Parameter containing:\n",
       " tensor([0.1288], requires_grad=True)]"
      ]
     },
     "execution_count": 250,
     "metadata": {},
     "output_type": "execute_result"
    }
   ],
   "source": [
    "list(model_0.parameters())  #weight and bias"
   ]
  },
  {
   "cell_type": "code",
   "execution_count": 251,
   "metadata": {},
   "outputs": [
    {
     "data": {
      "text/plain": [
       "OrderedDict([('weights', tensor([0.3367])), ('bias', tensor([0.1288]))])"
      ]
     },
     "execution_count": 251,
     "metadata": {},
     "output_type": "execute_result"
    }
   ],
   "source": [
    "model_0.state_dict()"
   ]
  },
  {
   "attachments": {},
   "cell_type": "markdown",
   "metadata": {},
   "source": [
    "`nn.L1Loss` is same as MAE"
   ]
  },
  {
   "cell_type": "code",
   "execution_count": 252,
   "metadata": {},
   "outputs": [],
   "source": [
    "# Setup a loss function\n",
    "loss_fn = nn.L1Loss()\n",
    "\n",
    "#Setup an optimizer (stochastic gradient descent)\n",
    "optimizer = torch.optim.SGD(params=model_0.parameters(),\n",
    "                            lr=0.001) # lr = learning rate = possibly the most important hyperparameter you can set   "
   ]
  },
  {
   "attachments": {},
   "cell_type": "markdown",
   "metadata": {},
   "source": [
    "Q: Which loss function to use?\n",
    "A: \n",
    "* Use SGD or GD with L1Loss will sufice for regressions\n",
    "* But for classification problems such as identifying if an image is a dog or a cat, use `nn.BCELoss()` (Binary cross entropy loss)"
   ]
  },
  {
   "attachments": {},
   "cell_type": "markdown",
   "metadata": {},
   "source": [
    "### Building a training loop (and a testing loop) in PyTorch\n",
    "\n",
    "A couple of things we need in a training loop:\n",
    "\n",
    "0. Loop through the data\n",
    "\n",
    "1. Forward pass (this involves data moving through our model's `forward()` method) to make predictions on data - also called forward propagation\n",
    "2. Calculate the loss (compare forward pass predictions to ground truth labels)\n",
    "3. Optimize zero grad\n",
    "4. Loss backward - move backwards through network to calculate the gradients of each of the parameters of our model with respect to the loss. (**backpropagation**)\n",
    "5. Optimizer step - use the optimizer to adjust our model;s parameters to try and improve the loss. (**gradient descent**)\n"
   ]
  },
  {
   "cell_type": "code",
   "execution_count": 253,
   "metadata": {},
   "outputs": [
    {
     "data": {
      "text/plain": [
       "(tensor([[0.8000],\n",
       "         [0.8200],\n",
       "         [0.8400],\n",
       "         [0.8600],\n",
       "         [0.8800],\n",
       "         [0.9000],\n",
       "         [0.9200],\n",
       "         [0.9400],\n",
       "         [0.9600],\n",
       "         [0.9800]]),\n",
       " tensor([[0.8600],\n",
       "         [0.8740],\n",
       "         [0.8880],\n",
       "         [0.9020],\n",
       "         [0.9160],\n",
       "         [0.9300],\n",
       "         [0.9440],\n",
       "         [0.9580],\n",
       "         [0.9720],\n",
       "         [0.9860]]))"
      ]
     },
     "execution_count": 253,
     "metadata": {},
     "output_type": "execute_result"
    }
   ],
   "source": [
    "X_test, y_test"
   ]
  },
  {
   "cell_type": "code",
   "execution_count": 254,
   "metadata": {},
   "outputs": [
    {
     "name": "stdout",
     "output_type": "stream",
     "text": [
      "Epoch 0 | Loss: 0.31288138031959534 | Test loss: 0.4931890368461609\n",
      "OrderedDict([('weights', tensor([0.3371])), ('bias', tensor([0.1298]))])\n",
      "Epoch 10 | Loss: 0.3013603389263153 | Test loss: 0.4797181189060211\n",
      "OrderedDict([('weights', tensor([0.3410])), ('bias', tensor([0.1398]))])\n",
      "Epoch 20 | Loss: 0.28983938694000244 | Test loss: 0.4662471413612366\n",
      "OrderedDict([('weights', tensor([0.3449])), ('bias', tensor([0.1498]))])\n",
      "Epoch 30 | Loss: 0.2783183455467224 | Test loss: 0.4527761936187744\n",
      "OrderedDict([('weights', tensor([0.3488])), ('bias', tensor([0.1598]))])\n",
      "Epoch 40 | Loss: 0.26679736375808716 | Test loss: 0.43930521607398987\n",
      "OrderedDict([('weights', tensor([0.3527])), ('bias', tensor([0.1698]))])\n",
      "Epoch 50 | Loss: 0.2552763819694519 | Test loss: 0.4258342385292053\n",
      "OrderedDict([('weights', tensor([0.3566])), ('bias', tensor([0.1798]))])\n",
      "Epoch 60 | Loss: 0.24375538527965546 | Test loss: 0.41236335039138794\n",
      "OrderedDict([('weights', tensor([0.3605])), ('bias', tensor([0.1898]))])\n",
      "Epoch 70 | Loss: 0.232234388589859 | Test loss: 0.398892343044281\n",
      "OrderedDict([('weights', tensor([0.3644])), ('bias', tensor([0.1998]))])\n",
      "Epoch 80 | Loss: 0.22071340680122375 | Test loss: 0.38542139530181885\n",
      "OrderedDict([('weights', tensor([0.3683])), ('bias', tensor([0.2098]))])\n",
      "Epoch 90 | Loss: 0.2091923952102661 | Test loss: 0.3719504475593567\n",
      "OrderedDict([('weights', tensor([0.3722])), ('bias', tensor([0.2198]))])\n"
     ]
    }
   ],
   "source": [
    "torch.manual_seed(42)\n",
    "# An epoch is one loop through the data ... (hyperparameter becasue we set it ourself!)\n",
    "epochs = 100\n",
    "#Track values\n",
    "epoch_count = []\n",
    "loss_values = []\n",
    "test_loss_values = []\n",
    "\n",
    "### Training \n",
    "# 0. Loop through the data\n",
    "for epoch in range(epochs):\n",
    "    # Set the model to training mode\n",
    "    model_0.train() #train mode in PyTorch sets all parametes that require gradients to require gradients\n",
    "\n",
    "    model_0.eval() # turns off gradient tracking\n",
    "\n",
    "    #1. Forward pass\n",
    "    y_pred = model_0(X_train)\n",
    "\n",
    "    #2. Calculate the loss\n",
    "    # loss functions are usually (input, target)\n",
    "    loss = loss_fn(y_pred,  y_train)\n",
    "    #print(\"Loss: \" + str(loss))\n",
    "\n",
    "    # 3. Optimizer zero grad\n",
    "    optimizer.zero_grad()\n",
    "\n",
    "    # 4. Perform backpropagation on the loss with respect to the parameters of the model\n",
    "    loss.backward()\n",
    "\n",
    "    # 5. Step the optimizer (perform gradient descent)\n",
    "    optimizer.step() # by default how the optimizer changes will accumulate through the loop so... we have to ero them in step 3 for the next iteration of the loop.\n",
    "\n",
    "    ### Testing\n",
    "    model_0.eval() # turns off different settings in the model not needed for evaluation/testin (dropout layers, batch norm layersm, ... )\n",
    "    with torch.inference_mode():  # turns off gradient tracking and a couple more things behind the scenes\n",
    "        # 1. Do the forward pass\n",
    "        test_pred = model_0(X_test)\n",
    "\n",
    "        # 2. Calculate the loss\n",
    "        test_loss = loss_fn(test_pred, y_test)\n",
    "    # Print Out what is happening\n",
    "    if(epoch % 10 == 0):\n",
    "        epoch_count.append(epoch)\n",
    "        loss_values.append(loss)\n",
    "        test_loss_values.append(test_loss)\n",
    "        print(f\"Epoch {epoch} | Loss: {loss} | Test loss: {test_loss}\")\n",
    "        # Print out the model state_dict()\n",
    "        print(model_0.state_dict())"
   ]
  },
  {
   "cell_type": "code",
   "execution_count": 255,
   "metadata": {},
   "outputs": [
    {
     "data": {
      "text/plain": [
       "(0.7, 0.3)"
      ]
     },
     "execution_count": 255,
     "metadata": {},
     "output_type": "execute_result"
    }
   ],
   "source": [
    "weight, bias"
   ]
  },
  {
   "cell_type": "code",
   "execution_count": 256,
   "metadata": {},
   "outputs": [],
   "source": [
    "with torch.inference_mode():\n",
    "    y_preds_new = model_0(X_test)"
   ]
  },
  {
   "cell_type": "code",
   "execution_count": 257,
   "metadata": {},
   "outputs": [
    {
     "data": {
      "image/png": "[encoded data removed]",
      "text/plain": [
       "<Figure size 1000x700 with 1 Axes>"
      ]
     },
     "metadata": {},
     "output_type": "display_data"
    }
   ],
   "source": [
    "# Old predictions (epoch 0)\n",
    "plot_predictions(predictions=y_preds)"
   ]
  },
  {
   "cell_type": "code",
   "execution_count": 258,
   "metadata": {},
   "outputs": [
    {
     "data": {
      "image/png": "[encoded data removed]",
      "text/plain": [
       "<Figure size 1000x700 with 1 Axes>"
      ]
     },
     "metadata": {},
     "output_type": "display_data"
    }
   ],
   "source": [
    "#Current Prediction\n",
    "plot_predictions(predictions=y_preds_new)"
   ]
  },
  {
   "cell_type": "code",
   "execution_count": 259,
   "metadata": {},
   "outputs": [
    {
     "data": {
      "text/plain": [
       "<matplotlib.legend.Legend at 0x2aa1aa94970>"
      ]
     },
     "execution_count": 259,
     "metadata": {},
     "output_type": "execute_result"
    },
    {
     "data": {
      "image/png": "[encoded data removed]",
      "text/plain": [
       "<Figure size 640x480 with 1 Axes>"
      ]
     },
     "metadata": {},
     "output_type": "display_data"
    }
   ],
   "source": [
    "import numpy as np\n",
    "#Plot the Loss Curves\n",
    "\n",
    "plt.plot(epoch_count, np.array(torch.tensor(loss_values).cpu().numpy()), label=\"Train Loss\")\n",
    "plt.plot(epoch_count, test_loss_values, label=\"Test Loss\")\n",
    "plt.title(\"Training and testing loss curves\")\n",
    "plt.ylabel(\"Loss\")\n",
    "plt.xlabel(\"Epochs\")\n",
    "plt.legend()"
   ]
  },
  {
   "attachments": {},
   "cell_type": "markdown",
   "metadata": {},
   "source": [
    "## Saving a model in PyTorch\n",
    "There are three main methods you should know about for saving and loading models in PyTorch.\n",
    "\n",
    "1. `torch.save()` - allows you to save a PyTorch object in Python's pickle module\n",
    "2. `torch.load()` - allows you to load a saved PyTorch object\n",
    "3. `torch.nn.Module.load_state_dict()` - this allows to load a model's saved state dictionary"
   ]
  },
  {
   "cell_type": "code",
   "execution_count": 260,
   "metadata": {},
   "outputs": [
    {
     "data": {
      "text/plain": [
       "OrderedDict([('weights', tensor([0.3757])), ('bias', tensor([0.2288]))])"
      ]
     },
     "execution_count": 260,
     "metadata": {},
     "output_type": "execute_result"
    }
   ],
   "source": [
    "model_0.state_dict()"
   ]
  },
  {
   "cell_type": "code",
   "execution_count": 261,
   "metadata": {},
   "outputs": [
    {
     "name": "stdout",
     "output_type": "stream",
     "text": [
      "Saving model to: models\\01_pytorch_workflow_model_0.pth\n"
     ]
    }
   ],
   "source": [
    "#Saving our PyTorch model\n",
    "from pathlib import Path\n",
    "\n",
    "# 1. Create models directory\n",
    "MODEL_PATH = Path(\"models\")\n",
    "MODEL_PATH.mkdir(parents=True, exist_ok=True)\n",
    "\n",
    "# 2. Create model save path\n",
    "MODEL_NAME = \"01_pytorch_workflow_model_0.pth\"\n",
    "MODEL_SAVE_PATH = MODEL_PATH / MODEL_NAME\n",
    "MODEL_SAVE_PATH\n",
    "\n",
    "#3. Save the model state dict\n",
    "print(f\"Saving model to: {MODEL_SAVE_PATH}\")\n",
    "torch.save(obj=model_0.state_dict(),\n",
    "           f=MODEL_SAVE_PATH)\n",
    "\n",
    "\n"
   ]
  },
  {
   "attachments": {},
   "cell_type": "markdown",
   "metadata": {},
   "source": [
    "## Loading a PyTorch model\n",
    "\n",
    "Since we saved our model's `state_dict()` rather than the entire model, we will create a new instance of our model class and load the saved `state_dict()` into that."
   ]
  },
  {
   "cell_type": "code",
   "execution_count": 262,
   "metadata": {},
   "outputs": [
    {
     "data": {
      "text/plain": [
       "OrderedDict([('weights', tensor([0.3757])), ('bias', tensor([0.2288]))])"
      ]
     },
     "execution_count": 262,
     "metadata": {},
     "output_type": "execute_result"
    }
   ],
   "source": [
    "model_0.state_dict()"
   ]
  },
  {
   "cell_type": "code",
   "execution_count": 263,
   "metadata": {},
   "outputs": [
    {
     "data": {
      "text/plain": [
       "<All keys matched successfully>"
      ]
     },
     "execution_count": 263,
     "metadata": {},
     "output_type": "execute_result"
    }
   ],
   "source": [
    "# To load in a saved state_dict we have to instantiate a new instance of our model class\n",
    "loaded_model_0 = LinearRegressionModel() # new instance!\n",
    "\n",
    "#Load the saved state_dict of model_0 (this wil updated the new instance with the updated parameters.)\n",
    "loaded_model_0.load_state_dict(torch.load(f=MODEL_SAVE_PATH))"
   ]
  },
  {
   "cell_type": "code",
   "execution_count": 264,
   "metadata": {},
   "outputs": [
    {
     "data": {
      "text/plain": [
       "OrderedDict([('weights', tensor([0.3757])), ('bias', tensor([0.2288]))])"
      ]
     },
     "execution_count": 264,
     "metadata": {},
     "output_type": "execute_result"
    }
   ],
   "source": [
    "loaded_model_0.state_dict() # should have exact same values as model_0"
   ]
  },
  {
   "cell_type": "code",
   "execution_count": 265,
   "metadata": {},
   "outputs": [
    {
     "data": {
      "text/plain": [
       "tensor([[0.5294],\n",
       "        [0.5369],\n",
       "        [0.5444],\n",
       "        [0.5519],\n",
       "        [0.5594],\n",
       "        [0.5669],\n",
       "        [0.5744],\n",
       "        [0.5820],\n",
       "        [0.5895],\n",
       "        [0.5970]])"
      ]
     },
     "execution_count": 265,
     "metadata": {},
     "output_type": "execute_result"
    }
   ],
   "source": [
    "# Make some predictions with our loaded model\n",
    "loaded_model_0.eval()\n",
    "with torch.inference_mode():\n",
    "    loaded_model_preds = loaded_model_0(X_test)\n",
    "    \n",
    "loaded_model_preds"
   ]
  },
  {
   "cell_type": "code",
   "execution_count": 266,
   "metadata": {},
   "outputs": [],
   "source": [
    "#Make some models preds\n",
    "model_0.eval()\n",
    "with torch.inference_mode():\n",
    "    y_preds = model_0(X_test)"
   ]
  },
  {
   "cell_type": "code",
   "execution_count": 267,
   "metadata": {},
   "outputs": [
    {
     "data": {
      "text/plain": [
       "tensor([[True],\n",
       "        [True],\n",
       "        [True],\n",
       "        [True],\n",
       "        [True],\n",
       "        [True],\n",
       "        [True],\n",
       "        [True],\n",
       "        [True],\n",
       "        [True]])"
      ]
     },
     "execution_count": 267,
     "metadata": {},
     "output_type": "execute_result"
    }
   ],
   "source": [
    "#Compare load model preds with original wtih original model preds\n",
    "y_preds == loaded_model_preds"
   ]
  },
  {
   "attachments": {},
   "cell_type": "markdown",
   "metadata": {},
   "source": [
    "## 6. Putting it all together\n",
    "\n",
    "Let's go back through the steps above and see it all in once place.\n"
   ]
  },
  {
   "cell_type": "code",
   "execution_count": 268,
   "metadata": {},
   "outputs": [
    {
     "data": {
      "text/plain": [
       "'1.13.1'"
      ]
     },
     "execution_count": 268,
     "metadata": {},
     "output_type": "execute_result"
    }
   ],
   "source": [
    "#Import PyTorch and matplotlib\n",
    "import torch\n",
    "from torch import nn\n",
    "import matplotlib.pyplot as plt\n",
    "\n",
    "#Check PyTorch version\n",
    "torch.__version__"
   ]
  },
  {
   "attachments": {},
   "cell_type": "markdown",
   "metadata": {},
   "source": [
    "Create device-agnostic code.\n",
    "This means if we've got access toa GPYm our code will use it (for potentially faster computing)\n"
   ]
  },
  {
   "cell_type": "code",
   "execution_count": 269,
   "metadata": {},
   "outputs": [
    {
     "data": {
      "text/plain": [
       "'Device is: cpu'"
      ]
     },
     "execution_count": 269,
     "metadata": {},
     "output_type": "execute_result"
    }
   ],
   "source": [
    "#Setup device agnostic code (i.e use GPU if possible)\n",
    "device = \"cuda\" if torch.cuda.is_available() else \"cpu\"\n",
    "tensor = torch.tensor([1,2,3])\n",
    "\"Device is: \" + str(device)"
   ]
  },
  {
   "cell_type": "markdown",
   "metadata": {},
   "source": [
    "\n",
    "\n",
    "### 6.1 Data"
   ]
  },
  {
   "attachments": {},
   "cell_type": "markdown",
   "metadata": {},
   "source": [
    "LAST TIME STAMP WAS 7:44:31  \"PUTTING EVERYTHING TOGETHER PART 1)"
   ]
  },
  {
   "cell_type": "code",
   "execution_count": 270,
   "metadata": {},
   "outputs": [
    {
     "data": {
      "text/plain": [
       "(tensor([[0.0000],\n",
       "         [0.0200],\n",
       "         [0.0400],\n",
       "         [0.0600],\n",
       "         [0.0800],\n",
       "         [0.1000],\n",
       "         [0.1200],\n",
       "         [0.1400],\n",
       "         [0.1600],\n",
       "         [0.1800]]),\n",
       " tensor([[0.2000],\n",
       "         [0.2054],\n",
       "         [0.2108],\n",
       "         [0.2162],\n",
       "         [0.2216],\n",
       "         [0.2270],\n",
       "         [0.2324],\n",
       "         [0.2378],\n",
       "         [0.2432],\n",
       "         [0.2486]]))"
      ]
     },
     "execution_count": 270,
     "metadata": {},
     "output_type": "execute_result"
    }
   ],
   "source": [
    "# Create some data using the linear regression formula of y = weight * X + bias\n",
    "weight = 0.27\n",
    "bias = 0.2\n",
    "\n",
    "#Create range values\n",
    "start = 0\n",
    "end = 1\n",
    "step = 0.02\n",
    "\n",
    "# Create X and y (features and labels)\n",
    "X = torch.arange(start, end, step).unsqueeze(dim=1) #Without unsqueeze, errors will pop up due to outer bracket \n",
    "y = weight * X + bias\n",
    "X[:10], y[:10]\n"
   ]
  },
  {
   "cell_type": "code",
   "execution_count": 271,
   "metadata": {},
   "outputs": [
    {
     "data": {
      "text/plain": [
       "(40, 40, 10, 10)"
      ]
     },
     "execution_count": 271,
     "metadata": {},
     "output_type": "execute_result"
    }
   ],
   "source": [
    "#Split data    Data is typicaly split into 80 and 20 (train and test sets)\n",
    "train_split = int(0.8 * len(X))\n",
    "X_train, y_train = X[:train_split], y[:train_split]\n",
    "X_test, y_test = X[train_split:], y[train_split:]\n",
    "len(X_train), len(y_train), len(X_test), len(y_test)\n",
    "\n"
   ]
  },
  {
   "cell_type": "code",
   "execution_count": 272,
   "metadata": {},
   "outputs": [
    {
     "data": {
      "image/png": "[encoded data removed]",
      "text/plain": [
       "<Figure size 1000x700 with 1 Axes>"
      ]
     },
     "metadata": {},
     "output_type": "display_data"
    }
   ],
   "source": [
    "#Plot the data\n",
    "#NoteL: if you don;t have the plot_predictions() function loaded, this will error\n",
    "plot_predictions(X_train, y_train, X_test, y_test)"
   ]
  },
  {
   "attachments": {},
   "cell_type": "markdown",
   "metadata": {},
   "source": [
    "## 6.2 Building a PyTorch Linear Model"
   ]
  },
  {
   "cell_type": "code",
   "execution_count": 273,
   "metadata": {},
   "outputs": [
    {
     "data": {
      "text/plain": [
       "(LinearRegressionModelV2(\n",
       "   (linear_layer): Linear(in_features=1, out_features=1, bias=True)\n",
       " ),\n",
       " OrderedDict([('linear_layer.weight', tensor([[0.7645]])),\n",
       "              ('linear_layer.bias', tensor([0.8300]))]))"
      ]
     },
     "execution_count": 273,
     "metadata": {},
     "output_type": "execute_result"
    }
   ],
   "source": [
    "# Create a linear model by subclassing nn.Module\n",
    "class LinearRegressionModelV2(nn.Module):\n",
    "    def __init__(self):\n",
    "        super().__init__()\n",
    "        # Use nn.Linear() for creating th model parameters / also called : linear transform, probing layer, fully connected layer, dense layer\n",
    "        self.linear_layer = nn.Linear(in_features=1,\n",
    "                                      out_features=1)\n",
    "    def forward(self, x: torch.Tensor) -> torch.Tensor:  #takes a tensor and returns a tensor\n",
    "        return self.linear_layer(x)\n",
    "\n",
    "# Set the manual seed\n",
    "torch.manual_seed(42)\n",
    "model_1 = LinearRegressionModelV2()\n",
    "model_1, model_1.state_dict()"
   ]
  },
  {
   "cell_type": "code",
   "execution_count": 274,
   "metadata": {},
   "outputs": [
    {
     "data": {
      "text/plain": [
       "(tensor([[0.0000],\n",
       "         [0.0200],\n",
       "         [0.0400],\n",
       "         [0.0600],\n",
       "         [0.0800]]),\n",
       " tensor([[0.2000],\n",
       "         [0.2054],\n",
       "         [0.2108],\n",
       "         [0.2162],\n",
       "         [0.2216]]))"
      ]
     },
     "execution_count": 274,
     "metadata": {},
     "output_type": "execute_result"
    }
   ],
   "source": [
    "X_train[:5], y_train[:5]"
   ]
  },
  {
   "cell_type": "code",
   "execution_count": 275,
   "metadata": {},
   "outputs": [
    {
     "data": {
      "text/plain": [
       "device(type='cpu')"
      ]
     },
     "execution_count": 275,
     "metadata": {},
     "output_type": "execute_result"
    }
   ],
   "source": [
    "#Check the model current device\n",
    "next(model_1.parameters()).device"
   ]
  },
  {
   "cell_type": "code",
   "execution_count": 276,
   "metadata": {},
   "outputs": [
    {
     "data": {
      "text/plain": [
       "device(type='cpu')"
      ]
     },
     "execution_count": 276,
     "metadata": {},
     "output_type": "execute_result"
    }
   ],
   "source": [
    "#Set the model to use the target device\n",
    "model_1.to(device)\n",
    "#Check the model current device\n",
    "next(model_1.parameters()).device"
   ]
  },
  {
   "cell_type": "code",
   "execution_count": 277,
   "metadata": {},
   "outputs": [
    {
     "data": {
      "text/plain": [
       "OrderedDict([('linear_layer.weight', tensor([[0.7645]])),\n",
       "             ('linear_layer.bias', tensor([0.8300]))])"
      ]
     },
     "execution_count": 277,
     "metadata": {},
     "output_type": "execute_result"
    }
   ],
   "source": [
    "model_1.state_dict()"
   ]
  },
  {
   "attachments": {},
   "cell_type": "markdown",
   "metadata": {},
   "source": [
    "## 6.3 Training\n",
    "\n",
    "For training we need:\n",
    "* Loss function\n",
    "* Optimizer\n",
    "* Training loop\n",
    "* Testing loop\n"
   ]
  },
  {
   "cell_type": "code",
   "execution_count": 292,
   "metadata": {},
   "outputs": [],
   "source": [
    "# Setup the loss function\n",
    "loss_fn = nn.L1Loss() # same as MAE\n",
    "\n",
    "#Setup our optimizer\n",
    "optimizer = torch.optim.SGD(params=model_1.parameters(), \n",
    "                            lr=0.001)  # Stochastic Gradient Descent\n"
   ]
  },
  {
   "cell_type": "code",
   "execution_count": 303,
   "metadata": {},
   "outputs": [
    {
     "name": "stdout",
     "output_type": "stream",
     "text": [
      "Epoch: 0 | Loss: 0.0007662944262847304 | Test loss: 0.00025772451772354543\n",
      "Epoch: 10 | Loss: 0.0007662944262847304 | Test loss: 0.00025772451772354543\n",
      "Epoch: 20 | Loss: 0.0007662944262847304 | Test loss: 0.00025772451772354543\n",
      "Epoch: 30 | Loss: 0.0007662944262847304 | Test loss: 0.00025772451772354543\n",
      "Epoch: 40 | Loss: 0.0007662944262847304 | Test loss: 0.00025772451772354543\n",
      "Epoch: 50 | Loss: 0.0007662944262847304 | Test loss: 0.00025772451772354543\n",
      "Epoch: 60 | Loss: 0.0007662944262847304 | Test loss: 0.00025772451772354543\n",
      "Epoch: 70 | Loss: 0.0007662944262847304 | Test loss: 0.00025772451772354543\n",
      "Epoch: 80 | Loss: 0.0007662944262847304 | Test loss: 0.00025772451772354543\n",
      "Epoch: 90 | Loss: 0.0007662944262847304 | Test loss: 0.00025772451772354543\n",
      "Epoch: 100 | Loss: 0.0007662944262847304 | Test loss: 0.00025772451772354543\n",
      "Epoch: 110 | Loss: 0.0007662944262847304 | Test loss: 0.00025772451772354543\n",
      "Epoch: 120 | Loss: 0.0007662944262847304 | Test loss: 0.00025772451772354543\n",
      "Epoch: 130 | Loss: 0.0007662944262847304 | Test loss: 0.00025772451772354543\n",
      "Epoch: 140 | Loss: 0.0007662944262847304 | Test loss: 0.00025772451772354543\n",
      "Epoch: 150 | Loss: 0.0007662944262847304 | Test loss: 0.00025772451772354543\n",
      "Epoch: 160 | Loss: 0.0007662944262847304 | Test loss: 0.00025772451772354543\n",
      "Epoch: 170 | Loss: 0.0007662944262847304 | Test loss: 0.00025772451772354543\n",
      "Epoch: 180 | Loss: 0.0007662944262847304 | Test loss: 0.00025772451772354543\n",
      "Epoch: 190 | Loss: 0.0007662944262847304 | Test loss: 0.00025772451772354543\n",
      "Epoch: 200 | Loss: 0.0007662944262847304 | Test loss: 0.00025772451772354543\n",
      "Epoch: 210 | Loss: 0.0007662944262847304 | Test loss: 0.00025772451772354543\n",
      "Epoch: 220 | Loss: 0.0007662944262847304 | Test loss: 0.00025772451772354543\n",
      "Epoch: 230 | Loss: 0.0007662944262847304 | Test loss: 0.00025772451772354543\n",
      "Epoch: 240 | Loss: 0.0007662944262847304 | Test loss: 0.00025772451772354543\n",
      "Epoch: 250 | Loss: 0.0007662944262847304 | Test loss: 0.00025772451772354543\n",
      "Epoch: 260 | Loss: 0.0007662944262847304 | Test loss: 0.00025772451772354543\n",
      "Epoch: 270 | Loss: 0.0007662944262847304 | Test loss: 0.00025772451772354543\n",
      "Epoch: 280 | Loss: 0.0007662944262847304 | Test loss: 0.00025772451772354543\n",
      "Epoch: 290 | Loss: 0.0007662944262847304 | Test loss: 0.00025772451772354543\n",
      "Epoch: 300 | Loss: 0.0007662944262847304 | Test loss: 0.00025772451772354543\n",
      "Epoch: 310 | Loss: 0.0007662944262847304 | Test loss: 0.00025772451772354543\n",
      "Epoch: 320 | Loss: 0.0007662944262847304 | Test loss: 0.00025772451772354543\n",
      "Epoch: 330 | Loss: 0.0007662944262847304 | Test loss: 0.00025772451772354543\n",
      "Epoch: 340 | Loss: 0.0007662944262847304 | Test loss: 0.00025772451772354543\n",
      "Epoch: 350 | Loss: 0.0007662944262847304 | Test loss: 0.00025772451772354543\n",
      "Epoch: 360 | Loss: 0.0007662944262847304 | Test loss: 0.00025772451772354543\n",
      "Epoch: 370 | Loss: 0.0007662944262847304 | Test loss: 0.00025772451772354543\n",
      "Epoch: 380 | Loss: 0.0007662944262847304 | Test loss: 0.00025772451772354543\n",
      "Epoch: 390 | Loss: 0.0007662944262847304 | Test loss: 0.00025772451772354543\n",
      "Epoch: 400 | Loss: 0.0007662944262847304 | Test loss: 0.00025772451772354543\n",
      "Epoch: 410 | Loss: 0.0007662944262847304 | Test loss: 0.00025772451772354543\n",
      "Epoch: 420 | Loss: 0.0007662944262847304 | Test loss: 0.00025772451772354543\n",
      "Epoch: 430 | Loss: 0.0007662944262847304 | Test loss: 0.00025772451772354543\n",
      "Epoch: 440 | Loss: 0.0007662944262847304 | Test loss: 0.00025772451772354543\n",
      "Epoch: 450 | Loss: 0.0007662944262847304 | Test loss: 0.00025772451772354543\n",
      "Epoch: 460 | Loss: 0.0007662944262847304 | Test loss: 0.00025772451772354543\n",
      "Epoch: 470 | Loss: 0.0007662944262847304 | Test loss: 0.00025772451772354543\n",
      "Epoch: 480 | Loss: 0.0007662944262847304 | Test loss: 0.00025772451772354543\n",
      "Epoch: 490 | Loss: 0.0007662944262847304 | Test loss: 0.00025772451772354543\n",
      "Epoch: 500 | Loss: 0.0007662944262847304 | Test loss: 0.00025772451772354543\n",
      "Epoch: 510 | Loss: 0.0007662944262847304 | Test loss: 0.00025772451772354543\n",
      "Epoch: 520 | Loss: 0.0007662944262847304 | Test loss: 0.00025772451772354543\n",
      "Epoch: 530 | Loss: 0.0007662944262847304 | Test loss: 0.00025772451772354543\n",
      "Epoch: 540 | Loss: 0.0007662944262847304 | Test loss: 0.00025772451772354543\n",
      "Epoch: 550 | Loss: 0.0007662944262847304 | Test loss: 0.00025772451772354543\n",
      "Epoch: 560 | Loss: 0.0007662944262847304 | Test loss: 0.00025772451772354543\n",
      "Epoch: 570 | Loss: 0.0007662944262847304 | Test loss: 0.00025772451772354543\n",
      "Epoch: 580 | Loss: 0.0007662944262847304 | Test loss: 0.00025772451772354543\n",
      "Epoch: 590 | Loss: 0.0007662944262847304 | Test loss: 0.00025772451772354543\n",
      "Epoch: 600 | Loss: 0.0007662944262847304 | Test loss: 0.00025772451772354543\n",
      "Epoch: 610 | Loss: 0.0007662944262847304 | Test loss: 0.00025772451772354543\n",
      "Epoch: 620 | Loss: 0.0007662944262847304 | Test loss: 0.00025772451772354543\n",
      "Epoch: 630 | Loss: 0.0007662944262847304 | Test loss: 0.00025772451772354543\n",
      "Epoch: 640 | Loss: 0.0007662944262847304 | Test loss: 0.00025772451772354543\n",
      "Epoch: 650 | Loss: 0.0007662944262847304 | Test loss: 0.00025772451772354543\n",
      "Epoch: 660 | Loss: 0.0007662944262847304 | Test loss: 0.00025772451772354543\n",
      "Epoch: 670 | Loss: 0.0007662944262847304 | Test loss: 0.00025772451772354543\n",
      "Epoch: 680 | Loss: 0.0007662944262847304 | Test loss: 0.00025772451772354543\n",
      "Epoch: 690 | Loss: 0.0007662944262847304 | Test loss: 0.00025772451772354543\n",
      "Epoch: 700 | Loss: 0.0007662944262847304 | Test loss: 0.00025772451772354543\n",
      "Epoch: 710 | Loss: 0.0007662944262847304 | Test loss: 0.00025772451772354543\n",
      "Epoch: 720 | Loss: 0.0007662944262847304 | Test loss: 0.00025772451772354543\n",
      "Epoch: 730 | Loss: 0.0007662944262847304 | Test loss: 0.00025772451772354543\n",
      "Epoch: 740 | Loss: 0.0007662944262847304 | Test loss: 0.00025772451772354543\n",
      "Epoch: 750 | Loss: 0.0007662944262847304 | Test loss: 0.00025772451772354543\n",
      "Epoch: 760 | Loss: 0.0007662944262847304 | Test loss: 0.00025772451772354543\n",
      "Epoch: 770 | Loss: 0.0007662944262847304 | Test loss: 0.00025772451772354543\n",
      "Epoch: 780 | Loss: 0.0007662944262847304 | Test loss: 0.00025772451772354543\n",
      "Epoch: 790 | Loss: 0.0007662944262847304 | Test loss: 0.00025772451772354543\n",
      "Epoch: 800 | Loss: 0.0007662944262847304 | Test loss: 0.00025772451772354543\n",
      "Epoch: 810 | Loss: 0.0007662944262847304 | Test loss: 0.00025772451772354543\n",
      "Epoch: 820 | Loss: 0.0007662944262847304 | Test loss: 0.00025772451772354543\n",
      "Epoch: 830 | Loss: 0.0007662944262847304 | Test loss: 0.00025772451772354543\n",
      "Epoch: 840 | Loss: 0.0007662944262847304 | Test loss: 0.00025772451772354543\n",
      "Epoch: 850 | Loss: 0.0007662944262847304 | Test loss: 0.00025772451772354543\n",
      "Epoch: 860 | Loss: 0.0007662944262847304 | Test loss: 0.00025772451772354543\n",
      "Epoch: 870 | Loss: 0.0007662944262847304 | Test loss: 0.00025772451772354543\n",
      "Epoch: 880 | Loss: 0.0007662944262847304 | Test loss: 0.00025772451772354543\n",
      "Epoch: 890 | Loss: 0.0007662944262847304 | Test loss: 0.00025772451772354543\n",
      "Epoch: 900 | Loss: 0.0007662944262847304 | Test loss: 0.00025772451772354543\n",
      "Epoch: 910 | Loss: 0.0007662944262847304 | Test loss: 0.00025772451772354543\n",
      "Epoch: 920 | Loss: 0.0007662944262847304 | Test loss: 0.00025772451772354543\n",
      "Epoch: 930 | Loss: 0.0007662944262847304 | Test loss: 0.00025772451772354543\n",
      "Epoch: 940 | Loss: 0.0007662944262847304 | Test loss: 0.00025772451772354543\n",
      "Epoch: 950 | Loss: 0.0007662944262847304 | Test loss: 0.00025772451772354543\n",
      "Epoch: 960 | Loss: 0.0007662944262847304 | Test loss: 0.00025772451772354543\n",
      "Epoch: 970 | Loss: 0.0007662944262847304 | Test loss: 0.00025772451772354543\n",
      "Epoch: 980 | Loss: 0.0007662944262847304 | Test loss: 0.00025772451772354543\n",
      "Epoch: 990 | Loss: 0.0007662944262847304 | Test loss: 0.00025772451772354543\n"
     ]
    }
   ],
   "source": [
    "# Write a training loop\n",
    "torch.manual_seed(42)\n",
    "\n",
    "epochs = 1000\n",
    "\n",
    "#Put data on the target device (device agnostic code for data) ALL TENSORS ON SAME DEVICE\n",
    "X_train = X_train.to(device)\n",
    "y_train = y_train.to(device)\n",
    "X_test = X_test.to(device)\n",
    "y_test = y_test.to(device)\n",
    "\n",
    "\n",
    "for epoch in range(epochs):\n",
    "    model_1.train()\n",
    "\n",
    "    #1. Forward Pass\n",
    "    y_pred = model_1(X_train)\n",
    "\n",
    "    #2. Calculate the loss\n",
    "    loss = loss_fn(y_pred, y_train)\n",
    "\n",
    "    #3. Optimizer zero grad\n",
    "    optimizer.zero_grad()\n",
    "\n",
    "    #4. Perform backpropagation\n",
    "    loss.backward()\n",
    "\n",
    "    #5. Optimizer step\n",
    "    optimizer.step()\n",
    "\n",
    "    ### Testing\n",
    "    model_1.eval()\n",
    "    with torch.inference_mode():\n",
    "        test_pred = model_1(X_test)\n",
    "        test_loss = loss_fn(test_pred, y_test)\n",
    "    \n",
    "    #Print out what's happening\n",
    "    if epoch % 10 == 0:\n",
    "        print(f\"Epoch: {epoch} | Loss: {loss } | Test loss: {test_loss}\")\n",
    "\n",
    "\n"
   ]
  },
  {
   "cell_type": "code",
   "execution_count": 304,
   "metadata": {},
   "outputs": [
    {
     "data": {
      "text/plain": [
       "OrderedDict([('linear_layer.weight', tensor([[0.2706]])),\n",
       "             ('linear_layer.bias', tensor([0.2005]))])"
      ]
     },
     "execution_count": 304,
     "metadata": {},
     "output_type": "execute_result"
    }
   ],
   "source": [
    "model_1.state_dict()"
   ]
  },
  {
   "cell_type": "code",
   "execution_count": 305,
   "metadata": {},
   "outputs": [
    {
     "data": {
      "text/plain": [
       "(0.27, 0.2)"
      ]
     },
     "execution_count": 305,
     "metadata": {},
     "output_type": "execute_result"
    }
   ],
   "source": [
    "# ideal values:\n",
    "weight, bias"
   ]
  },
  {
   "attachments": {},
   "cell_type": "markdown",
   "metadata": {},
   "source": [
    "## 6.4 Making and evaluating predictions"
   ]
  },
  {
   "cell_type": "code",
   "execution_count": 306,
   "metadata": {},
   "outputs": [
    {
     "data": {
      "text/plain": [
       "tensor([[0.4170],\n",
       "        [0.4224],\n",
       "        [0.4279],\n",
       "        [0.4333],\n",
       "        [0.4387],\n",
       "        [0.4441],\n",
       "        [0.4495],\n",
       "        [0.4549],\n",
       "        [0.4603],\n",
       "        [0.4657]])"
      ]
     },
     "execution_count": 306,
     "metadata": {},
     "output_type": "execute_result"
    }
   ],
   "source": [
    "# Turn model into evaluation mode\n",
    "model_1.eval()\n",
    "\n",
    "#Make predictions on the test data\n",
    "with torch.inference_mode():\n",
    "    y_preds = model_1(X_test)\n",
    "y_preds\n"
   ]
  },
  {
   "cell_type": "code",
   "execution_count": 307,
   "metadata": {},
   "outputs": [
    {
     "data": {
      "image/png": "[encoded data removed]",
      "text/plain": [
       "<Figure size 1000x700 with 1 Axes>"
      ]
     },
     "metadata": {},
     "output_type": "display_data"
    }
   ],
   "source": [
    "# Check out our model predictions visually\n",
    "plot_predictions(X_train, y_train, X_test, y_test, predictions=y_preds)\n"
   ]
  },
  {
   "attachments": {},
   "cell_type": "markdown",
   "metadata": {},
   "source": [
    "## 6.5 Saving and Loading a Model"
   ]
  },
  {
   "cell_type": "code",
   "execution_count": 312,
   "metadata": {},
   "outputs": [
    {
     "name": "stdout",
     "output_type": "stream",
     "text": [
      "Saving model to: models\\01_pytorch_workflow_model_1.pth\n"
     ]
    }
   ],
   "source": [
    "from pathlib import Path\n",
    "\n",
    "# 1. Create models directory\n",
    "MODEL_PATH = Path(\"models\")\n",
    "MODEL_PATH.mkdir(parents=True, exist_ok=True)\n",
    "\n",
    "# 2. Creat movel save path\n",
    "MODEL_NAME = \"01_pytorch_workflow_model_1.pth\"\n",
    "MODEL_SAVE_PATH = MODEL_PATH / MODEL_NAME\n",
    "\n",
    "# 3. Save the model state dict\n",
    "print(f\"Saving model to: {MODEL_SAVE_PATH}\")\n",
    "torch.save(obj=model_1.state_dict(),\n",
    "            f=MODEL_SAVE_PATH)\n"
   ]
  },
  {
   "cell_type": "code",
   "execution_count": 313,
   "metadata": {},
   "outputs": [
    {
     "data": {
      "text/plain": [
       "OrderedDict([('linear_layer.weight', tensor([[0.2706]])),\n",
       "             ('linear_layer.bias', tensor([0.2005]))])"
      ]
     },
     "execution_count": 313,
     "metadata": {},
     "output_type": "execute_result"
    }
   ],
   "source": [
    "model_1.state_dict()"
   ]
  },
  {
   "cell_type": "code",
   "execution_count": null,
   "metadata": {},
   "outputs": [],
   "source": []
  }
 ],
 "metadata": {
  "kernelspec": {
   "display_name": "base",
   "language": "python",
   "name": "python3"
  },
  "language_info": {
   "codemirror_mode": {
    "name": "ipython",
    "version": 3
   },
   "file_extension": ".py",
   "mimetype": "text/x-python",
   "name": "python",
   "nbconvert_exporter": "python",
   "pygments_lexer": "ipython3",
   "version": "3.9.13"
  },
  "orig_nbformat": 4,
  "vscode": {
   "interpreter": {
    "hash": "0de8dca92e58d953bd0b4c4a24f2f9c9fc6c7fad76695c4c09fbdc6bb1767a07"
   }
  }
 },
 "nbformat": 4,
 "nbformat_minor": 2
}
