{
 "cells": [
  {
   "attachments": {},
   "cell_type": "markdown",
   "metadata": {},
   "source": [
    "PyTorch 00"
   ]
  },
  {
   "cell_type": "code",
   "execution_count": 178,
   "metadata": {},
   "outputs": [
    {
     "name": "stdout",
     "output_type": "stream",
     "text": [
      "Pytorch Version: 1.13.1\n"
     ]
    }
   ],
   "source": [
    "import torch\n",
    "import pandas as pd\n",
    "import numpy as np\n",
    "import matplotlib.pyplot as plt\n",
    "\n",
    "print(\"Pytorch Version: \" + torch.__version__)"
   ]
  },
  {
   "cell_type": "code",
   "execution_count": 3,
   "metadata": {},
   "outputs": [
    {
     "data": {
      "text/plain": [
       "0"
      ]
     },
     "execution_count": 3,
     "metadata": {},
     "output_type": "execute_result"
    }
   ],
   "source": [
    "# scalar tensor\n",
    "scalar = torch.tensor(7)\n",
    "scalar\n",
    "\n",
    "scalar.ndim #dimension\n"
   ]
  },
  {
   "cell_type": "code",
   "execution_count": 4,
   "metadata": {},
   "outputs": [
    {
     "name": "stdout",
     "output_type": "stream",
     "text": [
      "tensor([7.7000])\n",
      "1\n"
     ]
    }
   ],
   "source": [
    "# Vector \n",
    "vector = torch.tensor([7.7])\n",
    "print(vector)\n",
    "print(vector.ndim)\n"
   ]
  },
  {
   "cell_type": "code",
   "execution_count": 5,
   "metadata": {},
   "outputs": [
    {
     "name": "stdout",
     "output_type": "stream",
     "text": [
      "tensor([[ 7,  8],\n",
      "        [ 9, 10]])\n",
      "2\n"
     ]
    }
   ],
   "source": [
    "#MATRIX\n",
    "MATRIX = torch.tensor([[7, 8],\n",
    "                       [9, 10]])\n",
    "print(MATRIX)\n",
    "print(MATRIX.ndim)"
   ]
  },
  {
   "cell_type": "code",
   "execution_count": 6,
   "metadata": {},
   "outputs": [
    {
     "data": {
      "text/plain": [
       "tensor([ 9, 10])"
      ]
     },
     "execution_count": 6,
     "metadata": {},
     "output_type": "execute_result"
    }
   ],
   "source": [
    "MATRIX[1]"
   ]
  },
  {
   "cell_type": "code",
   "execution_count": 7,
   "metadata": {},
   "outputs": [
    {
     "data": {
      "text/plain": [
       "torch.Size([2, 2])"
      ]
     },
     "execution_count": 7,
     "metadata": {},
     "output_type": "execute_result"
    }
   ],
   "source": [
    "MATRIX.shape"
   ]
  },
  {
   "cell_type": "code",
   "execution_count": 8,
   "metadata": {},
   "outputs": [
    {
     "name": "stdout",
     "output_type": "stream",
     "text": [
      "tensor([[[1, 2, 1],\n",
      "         [1, 1, 0],\n",
      "         [1, 1, 2]]])\n",
      "3\n",
      "torch.Size([1, 3, 3])\n"
     ]
    }
   ],
   "source": [
    "#TENSOR\n",
    "TENSOR = torch.tensor([[[1, 2, 1],\n",
    "                       [1, 1, 0],\n",
    "                       [1, 1, 2]]])\n",
    "print(TENSOR)\n",
    "print(TENSOR.ndim)\n",
    "print(TENSOR.shape)"
   ]
  },
  {
   "attachments": {},
   "cell_type": "markdown",
   "metadata": {},
   "source": [
    "Creating Tensors"
   ]
  },
  {
   "cell_type": "code",
   "execution_count": 9,
   "metadata": {},
   "outputs": [
    {
     "name": "stdout",
     "output_type": "stream",
     "text": [
      "2\n",
      "torch.Size([3, 7])\n",
      "tensor([[0.1825, 0.7934, 0.9068, 0.3097, 0.9184, 0.7912, 0.9904],\n",
      "        [0.5270, 0.7834, 0.4327, 0.0118, 0.0458, 0.4654, 0.2876],\n",
      "        [0.1015, 0.4753, 0.9560, 0.3875, 0.1365, 0.8439, 0.6020]])\n"
     ]
    }
   ],
   "source": [
    "#Random Tensor\n",
    "#Create a random tensor\n",
    "\n",
    "#provide size\n",
    "random_tensor = torch.rand(3, 7)\n",
    "print(random_tensor.ndim)\n",
    "print(random_tensor.shape)\n",
    "print(random_tensor)\n"
   ]
  },
  {
   "cell_type": "code",
   "execution_count": 10,
   "metadata": {},
   "outputs": [],
   "source": [
    "# Random tensor with similar shape to image tensor\n",
    "random_image_size_tensor = torch.rand(size=(224, 224, 3)) # height, width, color channels\n"
   ]
  },
  {
   "attachments": {},
   "cell_type": "markdown",
   "metadata": {},
   "source": [
    "Creating Random Tensor"
   ]
  },
  {
   "cell_type": "code",
   "execution_count": 16,
   "metadata": {},
   "outputs": [
    {
     "data": {
      "text/plain": [
       "tensor([[0., 0., 0., 0.],\n",
       "        [0., 0., 0., 0.],\n",
       "        [0., 0., 0., 0.]])"
      ]
     },
     "execution_count": 16,
     "metadata": {},
     "output_type": "execute_result"
    }
   ],
   "source": [
    "zeros = torch.zeros(size=(3,4))\n",
    "zeros"
   ]
  },
  {
   "cell_type": "code",
   "execution_count": 18,
   "metadata": {},
   "outputs": [
    {
     "data": {
      "text/plain": [
       "tensor([[1., 1., 1., 1.],\n",
       "        [1., 1., 1., 1.],\n",
       "        [1., 1., 1., 1.]])"
      ]
     },
     "execution_count": 18,
     "metadata": {},
     "output_type": "execute_result"
    }
   ],
   "source": [
    "oneTensor = torch.ones(size=(3,4))\n",
    "oneTensor"
   ]
  },
  {
   "cell_type": "code",
   "execution_count": 30,
   "metadata": {},
   "outputs": [],
   "source": [
    "nineRange = torch.arange(0,10)"
   ]
  },
  {
   "attachments": {},
   "cell_type": "markdown",
   "metadata": {},
   "source": [
    "Tensors Like"
   ]
  },
  {
   "cell_type": "code",
   "execution_count": 31,
   "metadata": {},
   "outputs": [
    {
     "data": {
      "text/plain": [
       "tensor([0, 0, 0, 0, 0, 0, 0, 0, 0, 0])"
      ]
     },
     "execution_count": 31,
     "metadata": {},
     "output_type": "execute_result"
    }
   ],
   "source": [
    "#Creatign Zeros-like\n",
    "ten_zeros = torch.zeros_like(input=nineRange)\n",
    "ten_zeros"
   ]
  },
  {
   "attachments": {},
   "cell_type": "markdown",
   "metadata": {},
   "source": [
    "Tensor Datatypes"
   ]
  },
  {
   "cell_type": "code",
   "execution_count": 39,
   "metadata": {},
   "outputs": [
    {
     "data": {
      "text/plain": [
       "tensor([3., 6., 9.])"
      ]
     },
     "execution_count": 39,
     "metadata": {},
     "output_type": "execute_result"
    }
   ],
   "source": [
    "#Flot 32 tensor\n",
    "float_32_tensor = torch.tensor([3.0, 6.0, 9.0], \n",
    "                                dtype=None, # Data type\n",
    "                                device=\"cpu\", # What device is your tensor on\n",
    "                                requires_grad=False) # Whether or not to track gradients with tensor\n",
    "float_32_tensor\n"
   ]
  },
  {
   "cell_type": "code",
   "execution_count": 42,
   "metadata": {},
   "outputs": [],
   "source": [
    "float_16_tensor = float_32_tensor.type(torch.float16)  # Casting to lower precision"
   ]
  },
  {
   "cell_type": "code",
   "execution_count": 48,
   "metadata": {},
   "outputs": [
    {
     "name": "stdout",
     "output_type": "stream",
     "text": [
      "tensor([ 9., 36., 81.])\n"
     ]
    }
   ],
   "source": [
    "#Multiplication accorss data types?\n",
    "print(float_32_tensor * float_16_tensor)\n",
    "\n"
   ]
  },
  {
   "cell_type": "code",
   "execution_count": 49,
   "metadata": {},
   "outputs": [
    {
     "data": {
      "text/plain": [
       "tensor([3, 6, 9])"
      ]
     },
     "execution_count": 49,
     "metadata": {},
     "output_type": "execute_result"
    }
   ],
   "source": [
    "int_32_tensor = torch.tensor([3, 6, 9], dtype=torch.long)\n",
    "int_32_tensor"
   ]
  },
  {
   "cell_type": "markdown",
   "metadata": {},
   "source": []
  },
  {
   "attachments": {},
   "cell_type": "markdown",
   "metadata": {},
   "source": [
    "### Getting information from Tensors\n",
    "\n",
    "1. Tensors not right Data Type\n",
    "2. Tensors not right shape\n",
    "3. Tensors not on right device - For local AMD GPU machine, just use \"cpu\"  use \"cuda\" if NVIDIA Gpu used\n"
   ]
  },
  {
   "cell_type": "code",
   "execution_count": 52,
   "metadata": {},
   "outputs": [
    {
     "name": "stdout",
     "output_type": "stream",
     "text": [
      "tensor([3, 6, 9])\n",
      "Datatype of tensor:  torch.Size([3])\n",
      "Device tensor is on:  cpu\n"
     ]
    }
   ],
   "source": [
    "# Find out details about some tensor\n",
    "print(int_32_tensor)\n",
    "print(f\"Datatype of tensor:  {int_32_tensor.shape}\")\n",
    "print(f\"Device tensor is on:  {int_32_tensor.device}\")"
   ]
  },
  {
   "attachments": {},
   "cell_type": "markdown",
   "metadata": {},
   "source": [
    "### Manipulating and Operating with tensors\n",
    "\n",
    "Tensor Operations: \n",
    "* Addition\n",
    "* Subtraction\n",
    "* Multiplication (element-wise)\n",
    "* Division\n",
    "* Matric Mulitplication"
   ]
  },
  {
   "cell_type": "code",
   "execution_count": 60,
   "metadata": {},
   "outputs": [
    {
     "data": {
      "text/plain": [
       "tensor([11, 12, 13])"
      ]
     },
     "execution_count": 60,
     "metadata": {},
     "output_type": "execute_result"
    }
   ],
   "source": [
    "# Tensor 1\n",
    "tensor1 = torch.tensor([1, 2, 3])\n",
    "tensor1 + 10  # adds 10 to each"
   ]
  },
  {
   "cell_type": "code",
   "execution_count": 61,
   "metadata": {},
   "outputs": [
    {
     "data": {
      "text/plain": [
       "tensor([10, 20, 30])"
      ]
     },
     "execution_count": 61,
     "metadata": {},
     "output_type": "execute_result"
    }
   ],
   "source": [
    "#Multiplication:    WORKS ELEMENT WISE\n",
    "tensor1 * 10"
   ]
  },
  {
   "cell_type": "code",
   "execution_count": 62,
   "metadata": {},
   "outputs": [
    {
     "data": {
      "text/plain": [
       "tensor([-9, -8, -7])"
      ]
     },
     "execution_count": 62,
     "metadata": {},
     "output_type": "execute_result"
    }
   ],
   "source": [
    "tensor1 - 10"
   ]
  },
  {
   "attachments": {},
   "cell_type": "markdown",
   "metadata": {},
   "source": [
    "### Matrix Multiplication\n",
    "\n",
    "Two main ways of performing multiplication in machine learning and deep learning\n",
    "1. Matrix Multiplication (dot product)\n",
    "2. Element Wise multiplication\n"
   ]
  },
  {
   "cell_type": "code",
   "execution_count": 113,
   "metadata": {},
   "outputs": [
    {
     "name": "stdout",
     "output_type": "stream",
     "text": [
      "tensor([1, 2, 3]) * tensor([1, 2, 3])\n",
      "EqualsL tensor([1, 4, 9])\n"
     ]
    }
   ],
   "source": [
    "# Element Wise: \n",
    "print(tensor1, \"*\", tensor1)\n",
    "print(f\"EqualsL {tensor1 * tensor1}\")"
   ]
  },
  {
   "cell_type": "code",
   "execution_count": 114,
   "metadata": {},
   "outputs": [
    {
     "name": "stdout",
     "output_type": "stream",
     "text": [
      "tensor([1, 2, 3]) dot tensor([1, 2, 3])\n",
      "tensor(42)\n",
      "Wall time: 2 ms\n"
     ]
    }
   ],
   "source": [
    "%%time\n",
    "# Matrix Multiplication:  (DOT PRODUCT)\n",
    "print(tensor1, \"dot\", tensor1)\n",
    "print(torch.matmul(tensor1, int_32_tensor))"
   ]
  },
  {
   "cell_type": "code",
   "execution_count": 115,
   "metadata": {},
   "outputs": [
    {
     "name": "stdout",
     "output_type": "stream",
     "text": [
      "torch.Size([2, 3])\n"
     ]
    },
    {
     "data": {
      "text/plain": [
       "tensor([[ 2, 22,  7],\n",
       "        [ 6, 66, 21],\n",
       "        [ 2, 50, 14]])"
      ]
     },
     "execution_count": 115,
     "metadata": {},
     "output_type": "execute_result"
    }
   ],
   "source": [
    "#Tensors\n",
    "tensor_A = torch.tensor([[1, 2],\n",
    "                        [3, 6],\n",
    "                        [8, 2]])\n",
    "tensor_B = torch.tensor([[0, 1],\n",
    "                        [4, 9],\n",
    "                        [1, 3]])\n",
    "#torch.mm is analagous to matmul\n",
    "#torch.matmul(tensor_A, tensor_B)\n",
    "tensor_BT = tensor_B.T\n",
    "print(tensor_BT.shape)\n",
    "\n",
    "# To fix shape issues, use transpose!\n",
    "torch.matmul(tensor_A, tensor_BT)"
   ]
  },
  {
   "cell_type": "markdown",
   "metadata": {},
   "source": [
    "### Finding the min, max, mean, sum, etc (tensor aggregation)"
   ]
  },
  {
   "cell_type": "code",
   "execution_count": 133,
   "metadata": {},
   "outputs": [
    {
     "data": {
      "text/plain": [
       "(tensor([ 1.0000,  3.5000,  6.0000,  8.5000, 11.0000, 13.5000, 16.0000, 18.5000,\n",
       "         21.0000, 23.5000, 26.0000, 28.5000, 31.0000, 33.5000, 36.0000, 38.5000,\n",
       "         41.0000, 43.5000, 46.0000, 48.5000, 51.0000, 53.5000, 56.0000, 58.5000,\n",
       "         61.0000, 63.5000, 66.0000, 68.5000, 71.0000, 73.5000, 76.0000, 78.5000,\n",
       "         81.0000, 83.5000, 86.0000, 88.5000, 91.0000, 93.5000, 96.0000, 98.5000]),\n",
       " torch.float32)"
      ]
     },
     "execution_count": 133,
     "metadata": {},
     "output_type": "execute_result"
    }
   ],
   "source": [
    "# Create a tensor\n",
    "x = torch.arange(1,100,2.5)\n",
    "x, x.dtype"
   ]
  },
  {
   "cell_type": "code",
   "execution_count": 134,
   "metadata": {},
   "outputs": [
    {
     "name": "stdout",
     "output_type": "stream",
     "text": [
      "Min: tensor(1.)\n",
      "Min: tensor(98.5000)\n"
     ]
    },
    {
     "data": {
      "text/plain": [
       "(tensor([ 1.0000,  3.5000,  6.0000,  8.5000, 11.0000, 13.5000, 16.0000, 18.5000,\n",
       "         21.0000, 23.5000, 26.0000, 28.5000, 31.0000, 33.5000, 36.0000, 38.5000,\n",
       "         41.0000, 43.5000, 46.0000, 48.5000, 51.0000, 53.5000, 56.0000, 58.5000,\n",
       "         61.0000, 63.5000, 66.0000, 68.5000, 71.0000, 73.5000, 76.0000, 78.5000,\n",
       "         81.0000, 83.5000, 86.0000, 88.5000, 91.0000, 93.5000, 96.0000, 98.5000]),\n",
       " torch.float32)"
      ]
     },
     "execution_count": 134,
     "metadata": {},
     "output_type": "execute_result"
    }
   ],
   "source": [
    "#Find the min and max\n",
    "print(\"Min: \" + str(torch.min(x)))\n",
    "print(\"Min: \" + str(torch.max(x)))\n",
    "x, x.dtype\n",
    "\n"
   ]
  },
  {
   "cell_type": "code",
   "execution_count": 149,
   "metadata": {},
   "outputs": [
    {
     "data": {
      "text/plain": [
       "tensor(49.7500)"
      ]
     },
     "execution_count": 149,
     "metadata": {},
     "output_type": "execute_result"
    }
   ],
   "source": [
    "#Find Mean - torch.mean() function will require a tensor of float32 datatype!\n",
    "torch.mean(x.type(torch.float32))"
   ]
  },
  {
   "cell_type": "markdown",
   "metadata": {},
   "source": [
    "## Finding Positional min and max"
   ]
  },
  {
   "cell_type": "code",
   "execution_count": 150,
   "metadata": {},
   "outputs": [
    {
     "data": {
      "text/plain": [
       "tensor([ 1.0000,  3.5000,  6.0000,  8.5000, 11.0000, 13.5000, 16.0000, 18.5000,\n",
       "        21.0000, 23.5000, 26.0000, 28.5000, 31.0000, 33.5000, 36.0000, 38.5000,\n",
       "        41.0000, 43.5000, 46.0000, 48.5000, 51.0000, 53.5000, 56.0000, 58.5000,\n",
       "        61.0000, 63.5000, 66.0000, 68.5000, 71.0000, 73.5000, 76.0000, 78.5000,\n",
       "        81.0000, 83.5000, 86.0000, 88.5000, 91.0000, 93.5000, 96.0000, 98.5000])"
      ]
     },
     "execution_count": 150,
     "metadata": {},
     "output_type": "execute_result"
    }
   ],
   "source": [
    "#reuse tensor x\n",
    "x"
   ]
  },
  {
   "cell_type": "code",
   "execution_count": 154,
   "metadata": {},
   "outputs": [
    {
     "data": {
      "text/plain": [
       "tensor(0)"
      ]
     },
     "execution_count": 154,
     "metadata": {},
     "output_type": "execute_result"
    }
   ],
   "source": [
    "#Finds position in tensor with minimal value with argmin() -> returns index position\n",
    "x.argmin()"
   ]
  },
  {
   "cell_type": "code",
   "execution_count": 155,
   "metadata": {},
   "outputs": [
    {
     "data": {
      "text/plain": [
       "tensor(39)"
      ]
     },
     "execution_count": 155,
     "metadata": {},
     "output_type": "execute_result"
    }
   ],
   "source": [
    "#Finds position in tensor with minimal value with argmin() -> returns index position\n",
    "x.argmax()"
   ]
  },
  {
   "cell_type": "code",
   "execution_count": 156,
   "metadata": {},
   "outputs": [
    {
     "data": {
      "text/plain": [
       "tensor(98.5000)"
      ]
     },
     "execution_count": 156,
     "metadata": {},
     "output_type": "execute_result"
    }
   ],
   "source": [
    "x[x.argmax()]"
   ]
  },
  {
   "attachments": {},
   "cell_type": "markdown",
   "metadata": {},
   "source": [
    "## Reshaping, stacking, squeezing and unsqueezing tensors\n",
    "* Reshaping - reshapes an input tensor to a defined shape\n",
    "* View - Return a view of an input tensor of certain shape but keep the same memory as original tensor\n",
    "* Stacking - combine multiple tensors vstack(on top of each other) or hstack(side by side).\n",
    "* Squeeze - removes all `1` dimensions from a tensor.\n",
    "* Unsqueeze - add a `1` dimension to a target tensor.\n",
    "* Permute - Return a view of the input with dimensions permuted (swapped) in a particular way."
   ]
  },
  {
   "cell_type": "code",
   "execution_count": 161,
   "metadata": {},
   "outputs": [
    {
     "name": "stdout",
     "output_type": "stream",
     "text": [
      "tensor([0, 1, 2, 3, 4, 5, 6, 7, 8, 9])\n",
      "torch.Size([10])\n"
     ]
    }
   ],
   "source": [
    "#Create tensor\n",
    "import torch\n",
    "x = torch.arange(0, 10)\n",
    "print(x)\n",
    "print(x.shape)"
   ]
  },
  {
   "cell_type": "code",
   "execution_count": 172,
   "metadata": {},
   "outputs": [
    {
     "name": "stdout",
     "output_type": "stream",
     "text": [
      "tensor([[0, 1, 2, 3, 4, 5, 6, 7, 8, 9]])\n",
      "torch.Size([1, 10])\n",
      "tensor([[0, 1],\n",
      "        [2, 3],\n",
      "        [4, 5],\n",
      "        [6, 7],\n",
      "        [8, 9]])\n",
      "torch.Size([5, 2])\n",
      "tensor([[0],\n",
      "        [1],\n",
      "        [2],\n",
      "        [3],\n",
      "        [4],\n",
      "        [5],\n",
      "        [6],\n",
      "        [7],\n",
      "        [8],\n",
      "        [9]])\n",
      "torch.Size([10, 1])\n"
     ]
    }
   ],
   "source": [
    "#Add an extra dimension   Stuff must add up\n",
    "x_reshaped1 = x.reshape(1,10)\n",
    "x_reshaped2 = x.reshape(5,2)\n",
    "x_reshaped3 = x.reshape(10,1)\n",
    "\n",
    "print(x_reshaped1)\n",
    "print(x_reshaped1.shape)\n",
    "print(x_reshaped2)\n",
    "print(x_reshaped2.shape)\n",
    "print(x_reshaped3)\n",
    "print(x_reshaped3.shape)\n"
   ]
  },
  {
   "cell_type": "code",
   "execution_count": 175,
   "metadata": {},
   "outputs": [
    {
     "data": {
      "text/plain": [
       "(tensor([[0, 1, 2, 3, 4, 5, 6, 7, 8, 9]]), torch.Size([1, 10]))"
      ]
     },
     "execution_count": 175,
     "metadata": {},
     "output_type": "execute_result"
    }
   ],
   "source": [
    "# Change the View\n",
    "z = x.view(1, 10)\n",
    "z, z.shape"
   ]
  },
  {
   "cell_type": "code",
   "execution_count": 185,
   "metadata": {},
   "outputs": [
    {
     "data": {
      "text/plain": [
       "(tensor([[4, 1, 2, 3, 4, 5, 6, 7, 8, 9]]),\n",
       " tensor([4, 1, 2, 3, 4, 5, 6, 7, 8, 9]))"
      ]
     },
     "execution_count": 185,
     "metadata": {},
     "output_type": "execute_result"
    }
   ],
   "source": [
    "#Changing z changes x (because a view of a tensor shares the same memory as the original tensor)\n",
    "z[:, 0] = 4\n",
    "z, x"
   ]
  },
  {
   "cell_type": "code",
   "execution_count": 183,
   "metadata": {},
   "outputs": [
    {
     "data": {
      "text/plain": [
       "tensor([[5, 1, 2, 3, 4, 5, 6, 7, 8, 9],\n",
       "        [5, 1, 2, 3, 4, 5, 6, 7, 8, 9],\n",
       "        [5, 1, 2, 3, 4, 5, 6, 7, 8, 9],\n",
       "        [5, 1, 2, 3, 4, 5, 6, 7, 8, 9]])"
      ]
     },
     "execution_count": 183,
     "metadata": {},
     "output_type": "execute_result"
    }
   ],
   "source": [
    "#Stack Tensors on top of each other  (V-Stack)\n",
    "x_stacked = torch.stack([x, x, x, x], dim=0)\n",
    "x_stacked"
   ]
  },
  {
   "cell_type": "code",
   "execution_count": null,
   "metadata": {},
   "outputs": [],
   "source": []
  }
 ],
 "metadata": {
  "kernelspec": {
   "display_name": "base",
   "language": "python",
   "name": "python3"
  },
  "language_info": {
   "codemirror_mode": {
    "name": "ipython",
    "version": 3
   },
   "file_extension": ".py",
   "mimetype": "text/x-python",
   "name": "python",
   "nbconvert_exporter": "python",
   "pygments_lexer": "ipython3",
   "version": "3.9.13"
  },
  "orig_nbformat": 4,
  "vscode": {
   "interpreter": {
    "hash": "0de8dca92e58d953bd0b4c4a24f2f9c9fc6c7fad76695c4c09fbdc6bb1767a07"
   }
  }
 },
 "nbformat": 4,
 "nbformat_minor": 2
}
