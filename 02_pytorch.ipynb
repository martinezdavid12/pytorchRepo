{
 "cells": [
  {
   "attachments": {},
   "cell_type": "markdown",
   "metadata": {},
   "source": [
    "# 02. Neural Network classification with PyTorch\n",
    "\n",
    "Classification is a problem of predicting whether soemthing is one thing or another (there can be multiple things as the options)\n",
    "\n",
    "Note: Use book version for more info!"
   ]
  },
  {
   "attachments": {},
   "cell_type": "markdown",
   "metadata": {},
   "source": [
    "## 1.  Make classification data and get it ready\n"
   ]
  },
  {
   "cell_type": "code",
   "execution_count": 1,
   "metadata": {},
   "outputs": [],
   "source": [
    "import sklearn"
   ]
  },
  {
   "cell_type": "code",
   "execution_count": 2,
   "metadata": {},
   "outputs": [],
   "source": [
    "from sklearn.datasets import make_circles\n",
    "\n",
    "# Make 1000 samples\n",
    "n_samples = 1000\n",
    "\n",
    "# Create circles\n",
    "X, y = make_circles(n_samples,\n",
    "                    noise=0.03,\n",
    "                    random_state=42)\n",
    "                    "
   ]
  },
  {
   "cell_type": "code",
   "execution_count": 3,
   "metadata": {},
   "outputs": [
    {
     "data": {
      "text/plain": [
       "(1000, 1000)"
      ]
     },
     "execution_count": 3,
     "metadata": {},
     "output_type": "execute_result"
    }
   ],
   "source": [
    "len(X), len(y)"
   ]
  },
  {
   "cell_type": "code",
   "execution_count": 4,
   "metadata": {},
   "outputs": [
    {
     "name": "stdout",
     "output_type": "stream",
     "text": [
      "First 5 samples of X: [[ 0.75424625  0.23148074]\n",
      " [-0.75615888  0.15325888]\n",
      " [-0.81539193  0.17328203]\n",
      " [-0.39373073  0.69288277]\n",
      " [ 0.44220765 -0.89672343]]\n",
      "First 5 samples of y: [1 1 1 1 0]\n"
     ]
    }
   ],
   "source": [
    "print(f\"First 5 samples of X: {X[:5]}\")\n",
    "print(f\"First 5 samples of y: {y[:5]}\")"
   ]
  },
  {
   "cell_type": "code",
   "execution_count": 5,
   "metadata": {},
   "outputs": [
    {
     "data": {
      "text/plain": [
       "array([1, 1, 1, 1, 0, 1, 1, 1, 1, 0, 1, 0, 1, 1, 1, 1, 0, 1, 1, 0, 1, 0,\n",
       "       0, 1, 0, 0, 0, 1, 1, 1, 0, 0, 1, 0, 0, 0, 1, 1, 1, 0, 0, 0, 0, 1,\n",
       "       0, 0, 1, 1, 0, 1, 1, 1, 0, 1, 0, 0, 1, 0, 0, 1, 0, 0, 1, 0, 1, 1,\n",
       "       1, 1, 0, 1, 0, 0, 1, 1, 0, 0, 1, 0, 1, 0, 1, 0, 0, 0, 0, 1, 1, 1,\n",
       "       1, 0, 0, 0, 1, 0, 1, 0, 1, 0, 0, 1, 1, 0, 1, 0, 1, 1, 1, 1, 0, 1,\n",
       "       1, 1, 1, 1, 0, 0, 0, 1, 1, 0, 1, 0, 1, 0, 0, 1, 1, 0, 1, 1, 1, 1,\n",
       "       0, 1, 1, 0, 0, 0, 0, 0, 0, 0, 1, 0, 1, 1, 1, 0, 1, 0, 1, 0, 1, 0,\n",
       "       1, 0, 0, 1, 0, 1, 1, 1, 1, 1, 1, 1, 0, 1, 0, 0, 0, 0, 0, 1, 0, 0,\n",
       "       0, 0, 1, 1, 0, 1, 0, 1, 1, 0, 0, 0, 1, 1, 1, 1, 1, 0, 0, 0, 0, 0,\n",
       "       1, 0, 0, 1, 1, 1, 1, 1, 0, 1, 0, 1, 0, 0, 1, 1, 1, 0, 1, 0, 1, 1,\n",
       "       0, 1, 1, 0, 1, 0, 1, 0, 1, 1, 0, 1, 0, 1, 0, 0, 0, 1, 0, 0, 0, 0,\n",
       "       1, 1, 0, 0, 0, 0, 0, 0, 0, 1, 1, 1, 0, 0, 1, 1, 1, 0, 1, 0, 0, 0,\n",
       "       0, 1, 1, 0, 1, 0, 0, 0, 1, 0, 1, 0, 0, 1, 0, 1, 1, 1, 0, 0, 0, 1,\n",
       "       0, 0, 0, 1, 1, 1, 1, 0, 0, 0, 1, 0, 0, 0, 1, 0, 0, 0, 1, 1, 0, 1,\n",
       "       1, 1, 1, 1, 1, 1, 0, 0, 0, 0, 1, 0, 0, 0, 0, 1, 1, 1, 0, 0, 1, 0,\n",
       "       1, 0, 1, 1, 0, 0, 1, 1, 1, 1, 0, 0, 0, 0, 0, 0, 1, 1, 0, 1, 0, 0,\n",
       "       1, 0, 0, 0, 0, 0, 0, 0, 0, 1, 0, 0, 0, 0, 1, 0, 0, 1, 0, 1, 0, 0,\n",
       "       0, 1, 0, 0, 1, 1, 0, 0, 1, 0, 0, 1, 1, 0, 1, 1, 0, 0, 1, 0, 1, 0,\n",
       "       0, 0, 1, 1, 0, 0, 1, 1, 1, 1, 1, 0, 0, 1, 1, 1, 1, 0, 1, 1, 1, 1,\n",
       "       1, 0, 0, 1, 0, 1, 0, 0, 0, 0, 1, 0, 0, 0, 0, 0, 0, 0, 0, 0, 1, 1,\n",
       "       0, 1, 1, 1, 1, 1, 1, 0, 1, 1, 1, 1, 0, 0, 0, 1, 1, 1, 0, 0, 0, 0,\n",
       "       1, 1, 0, 0, 0, 0, 1, 0, 0, 0, 1, 0, 0, 1, 1, 1, 1, 1, 1, 0, 0, 0,\n",
       "       1, 0, 0, 0, 0, 0, 1, 1, 1, 0, 0, 0, 0, 0, 1, 1, 1, 0, 0, 1, 1, 1,\n",
       "       1, 0, 1, 1, 0, 1, 0, 0, 0, 1, 0, 0, 1, 0, 0, 1, 1, 0, 0, 1, 1, 0,\n",
       "       1, 0, 1, 0, 1, 0, 1, 0, 0, 0, 1, 0, 0, 0, 0, 0, 0, 1, 1, 1, 1, 0,\n",
       "       0, 0, 1, 0, 1, 1, 0, 0, 0, 0, 0, 1, 1, 1, 0, 0, 1, 0, 0, 1, 0, 0,\n",
       "       1, 0, 0, 1, 0, 0, 0, 1, 0, 0, 1, 1, 1, 0, 1, 1, 0, 0, 0, 1, 1, 1,\n",
       "       1, 0, 0, 1, 1, 1, 0, 0, 0, 0, 1, 1, 0, 0, 1, 1, 0, 0, 1, 1, 1, 1,\n",
       "       1, 1, 1, 0, 1, 0, 1, 0, 0, 1, 0, 1, 1, 1, 1, 0, 0, 1, 1, 0, 0, 1,\n",
       "       0, 1, 0, 0, 0, 1, 0, 0, 1, 1, 1, 1, 0, 1, 1, 1, 1, 1, 1, 1, 0, 1,\n",
       "       0, 1, 1, 1, 0, 0, 1, 0, 0, 0, 1, 1, 1, 1, 0, 0, 0, 0, 1, 0, 1, 1,\n",
       "       1, 0, 1, 0, 0, 1, 0, 0, 1, 1, 1, 1, 1, 0, 1, 0, 0, 0, 1, 1, 1, 1,\n",
       "       1, 0, 0, 0, 1, 1, 1, 1, 0, 0, 0, 0, 0, 1, 1, 0, 1, 0, 1, 0, 0, 0,\n",
       "       0, 0, 0, 0, 0, 0, 1, 1, 1, 1, 1, 0, 1, 0, 1, 1, 1, 1, 0, 1, 1, 1,\n",
       "       1, 1, 1, 1, 1, 0, 1, 1, 0, 1, 0, 0, 0, 1, 0, 1, 1, 1, 0, 1, 1, 0,\n",
       "       1, 1, 0, 1, 0, 1, 1, 0, 0, 1, 1, 1, 0, 0, 0, 0, 1, 1, 0, 0, 1, 1,\n",
       "       1, 1, 1, 1, 1, 1, 1, 1, 1, 1, 1, 1, 0, 0, 1, 0, 1, 0, 1, 0, 1, 1,\n",
       "       1, 1, 1, 1, 0, 1, 0, 1, 1, 1, 0, 1, 1, 0, 0, 1, 0, 1, 1, 0, 0, 1,\n",
       "       1, 1, 1, 1, 1, 1, 1, 0, 1, 1, 1, 0, 1, 0, 0, 1, 1, 0, 0, 0, 1, 0,\n",
       "       0, 1, 0, 0, 0, 1, 0, 1, 0, 0, 0, 0, 1, 0, 1, 1, 1, 1, 0, 1, 0, 0,\n",
       "       0, 0, 0, 0, 1, 0, 1, 0, 1, 0, 1, 1, 1, 0, 1, 0, 1, 0, 0, 1, 1, 1,\n",
       "       0, 0, 0, 1, 1, 0, 1, 0, 1, 1, 0, 1, 0, 0, 1, 1, 1, 0, 0, 0, 1, 1,\n",
       "       0, 0, 0, 0, 0, 1, 1, 0, 1, 0, 0, 0, 1, 0, 0, 0, 1, 1, 1, 1, 0, 1,\n",
       "       1, 1, 0, 1, 1, 1, 1, 0, 1, 1, 0, 1, 1, 0, 0, 1, 1, 1, 0, 0, 0, 0,\n",
       "       0, 0, 1, 0, 0, 1, 0, 0, 0, 1, 0, 1, 0, 1, 1, 0, 0, 0, 0, 0, 0, 0,\n",
       "       0, 1, 0, 1, 0, 0, 0, 1, 0, 0])"
      ]
     },
     "execution_count": 5,
     "metadata": {},
     "output_type": "execute_result"
    }
   ],
   "source": [
    "y  # only 0's and 1's"
   ]
  },
  {
   "cell_type": "code",
   "execution_count": 6,
   "metadata": {},
   "outputs": [
    {
     "data": {
      "text/html": [
       "<div>\n",
       "<style scoped>\n",
       "    .dataframe tbody tr th:only-of-type {\n",
       "        vertical-align: middle;\n",
       "    }\n",
       "\n",
       "    .dataframe tbody tr th {\n",
       "        vertical-align: top;\n",
       "    }\n",
       "\n",
       "    .dataframe thead th {\n",
       "        text-align: right;\n",
       "    }\n",
       "</style>\n",
       "<table border=\"1\" class=\"dataframe\">\n",
       "  <thead>\n",
       "    <tr style=\"text-align: right;\">\n",
       "      <th></th>\n",
       "      <th>X1</th>\n",
       "      <th>X2</th>\n",
       "      <th>label</th>\n",
       "    </tr>\n",
       "  </thead>\n",
       "  <tbody>\n",
       "    <tr>\n",
       "      <th>0</th>\n",
       "      <td>0.754246</td>\n",
       "      <td>0.231481</td>\n",
       "      <td>1</td>\n",
       "    </tr>\n",
       "    <tr>\n",
       "      <th>1</th>\n",
       "      <td>-0.756159</td>\n",
       "      <td>0.153259</td>\n",
       "      <td>1</td>\n",
       "    </tr>\n",
       "    <tr>\n",
       "      <th>2</th>\n",
       "      <td>-0.815392</td>\n",
       "      <td>0.173282</td>\n",
       "      <td>1</td>\n",
       "    </tr>\n",
       "    <tr>\n",
       "      <th>3</th>\n",
       "      <td>-0.393731</td>\n",
       "      <td>0.692883</td>\n",
       "      <td>1</td>\n",
       "    </tr>\n",
       "    <tr>\n",
       "      <th>4</th>\n",
       "      <td>0.442208</td>\n",
       "      <td>-0.896723</td>\n",
       "      <td>0</td>\n",
       "    </tr>\n",
       "    <tr>\n",
       "      <th>5</th>\n",
       "      <td>-0.479646</td>\n",
       "      <td>0.676435</td>\n",
       "      <td>1</td>\n",
       "    </tr>\n",
       "    <tr>\n",
       "      <th>6</th>\n",
       "      <td>-0.013648</td>\n",
       "      <td>0.803349</td>\n",
       "      <td>1</td>\n",
       "    </tr>\n",
       "    <tr>\n",
       "      <th>7</th>\n",
       "      <td>0.771513</td>\n",
       "      <td>0.147760</td>\n",
       "      <td>1</td>\n",
       "    </tr>\n",
       "    <tr>\n",
       "      <th>8</th>\n",
       "      <td>-0.169322</td>\n",
       "      <td>-0.793456</td>\n",
       "      <td>1</td>\n",
       "    </tr>\n",
       "    <tr>\n",
       "      <th>9</th>\n",
       "      <td>-0.121486</td>\n",
       "      <td>1.021509</td>\n",
       "      <td>0</td>\n",
       "    </tr>\n",
       "  </tbody>\n",
       "</table>\n",
       "</div>"
      ],
      "text/plain": [
       "         X1        X2  label\n",
       "0  0.754246  0.231481      1\n",
       "1 -0.756159  0.153259      1\n",
       "2 -0.815392  0.173282      1\n",
       "3 -0.393731  0.692883      1\n",
       "4  0.442208 -0.896723      0\n",
       "5 -0.479646  0.676435      1\n",
       "6 -0.013648  0.803349      1\n",
       "7  0.771513  0.147760      1\n",
       "8 -0.169322 -0.793456      1\n",
       "9 -0.121486  1.021509      0"
      ]
     },
     "execution_count": 6,
     "metadata": {},
     "output_type": "execute_result"
    }
   ],
   "source": [
    "# make DataFrame of circle data\n",
    "import pandas as pd\n",
    "circles = pd.DataFrame({\"X1\": X[:, 0], \n",
    "                        \"X2\": X[:, 1],\n",
    "                        \"label\": y})\n",
    "circles.head(10)"
   ]
  },
  {
   "cell_type": "code",
   "execution_count": 7,
   "metadata": {
    "notebookRunGroups": {
     "groupValue": ""
    }
   },
   "outputs": [
    {
     "data": {
      "text/plain": [
       "1    500\n",
       "0    500\n",
       "Name: label, dtype: int64"
      ]
     },
     "execution_count": 7,
     "metadata": {},
     "output_type": "execute_result"
    },
    {
     "data": {
      "image/png": "[encoded data removed]",
      "text/plain": [
       "<Figure size 640x480 with 1 Axes>"
      ]
     },
     "metadata": {},
     "output_type": "display_data"
    }
   ],
   "source": [
    "# Visualize, visualize, visualize\n",
    "import matplotlib.pyplot as plt\n",
    "plt.scatter(x=X[:, 0],\n",
    "            y=X[:, 1],\n",
    "            c=y,\n",
    "            cmap=plt.cm.RdYlBu)\n",
    "circles.label.value_counts()"
   ]
  },
  {
   "attachments": {},
   "cell_type": "markdown",
   "metadata": {},
   "source": [
    "**Note:** the data we're working with is oftern referred to as a toy dataset, a dataset that is small enough to experiment and learn but still sizeable enough to practice the fundamentals."
   ]
  },
  {
   "attachments": {},
   "cell_type": "markdown",
   "metadata": {},
   "source": [
    "### 1.1 Check input and output shapes"
   ]
  },
  {
   "cell_type": "code",
   "execution_count": 8,
   "metadata": {},
   "outputs": [
    {
     "data": {
      "text/plain": [
       "((1000, 2), (1000,))"
      ]
     },
     "execution_count": 8,
     "metadata": {},
     "output_type": "execute_result"
    }
   ],
   "source": [
    "X.shape, y.shape"
   ]
  },
  {
   "cell_type": "code",
   "execution_count": 9,
   "metadata": {},
   "outputs": [
    {
     "data": {
      "text/plain": [
       "array([[ 0.75424625,  0.23148074],\n",
       "       [-0.75615888,  0.15325888],\n",
       "       [-0.81539193,  0.17328203],\n",
       "       ...,\n",
       "       [-0.13690036, -0.81001183],\n",
       "       [ 0.67036156, -0.76750154],\n",
       "       [ 0.28105665,  0.96382443]])"
      ]
     },
     "execution_count": 9,
     "metadata": {},
     "output_type": "execute_result"
    }
   ],
   "source": [
    "X"
   ]
  },
  {
   "cell_type": "code",
   "execution_count": 10,
   "metadata": {},
   "outputs": [
    {
     "name": "stdout",
     "output_type": "stream",
     "text": [
      "Values for one sample of X: [0.75424625 0.23148074] and the same for y: 1\n",
      "Shapes for one saples of X: (2,) and the same for y: ()\n"
     ]
    }
   ],
   "source": [
    "# View the first example of features and labels\n",
    "X_sample = X[0]\n",
    "y_sample = y[0]\n",
    "\n",
    "print(f\"Values for one sample of X: {X_sample} and the same for y: {y_sample}\")\n",
    "print(f\"Shapes for one saples of X: {X_sample.shape} and the same for y: {y_sample.shape}\")"
   ]
  },
  {
   "attachments": {},
   "cell_type": "markdown",
   "metadata": {},
   "source": [
    "## 1.2 Turn data into tensors and create train and test splits"
   ]
  },
  {
   "cell_type": "code",
   "execution_count": 11,
   "metadata": {},
   "outputs": [
    {
     "data": {
      "text/plain": [
       "'1.13.1'"
      ]
     },
     "execution_count": 11,
     "metadata": {},
     "output_type": "execute_result"
    }
   ],
   "source": [
    "# Turn data into tensors\n",
    "import torch\n",
    "torch.__version__"
   ]
  },
  {
   "cell_type": "code",
   "execution_count": 12,
   "metadata": {},
   "outputs": [],
   "source": [
    "#Turn data into tensors\n",
    "X = torch.from_numpy(X).type(torch.float)\n",
    "y = torch.from_numpy(y).type(torch.float)"
   ]
  },
  {
   "cell_type": "code",
   "execution_count": 13,
   "metadata": {},
   "outputs": [
    {
     "data": {
      "text/plain": [
       "(torch.float32, torch.float32)"
      ]
     },
     "execution_count": 13,
     "metadata": {},
     "output_type": "execute_result"
    }
   ],
   "source": [
    "X.dtype, y.dtype"
   ]
  },
  {
   "cell_type": "code",
   "execution_count": 14,
   "metadata": {},
   "outputs": [
    {
     "data": {
      "text/plain": [
       "(<function Tensor.type>, <function Tensor.type>)"
      ]
     },
     "execution_count": 14,
     "metadata": {},
     "output_type": "execute_result"
    }
   ],
   "source": [
    "X.type, y.type"
   ]
  },
  {
   "cell_type": "code",
   "execution_count": 15,
   "metadata": {},
   "outputs": [
    {
     "data": {
      "text/plain": [
       "(tensor([[ 0.7542,  0.2315],\n",
       "         [-0.7562,  0.1533],\n",
       "         [-0.8154,  0.1733],\n",
       "         [-0.3937,  0.6929],\n",
       "         [ 0.4422, -0.8967]]),\n",
       " tensor([1., 1., 1., 1., 0.]))"
      ]
     },
     "execution_count": 15,
     "metadata": {},
     "output_type": "execute_result"
    }
   ],
   "source": [
    "X[:5], y[:5]"
   ]
  },
  {
   "cell_type": "code",
   "execution_count": 16,
   "metadata": {},
   "outputs": [],
   "source": [
    "# Split data into training and test sets\n",
    "from sklearn.model_selection import train_test_split\n",
    "\n",
    "X_train, X_test, y_train, y_test = train_test_split(X,\n",
    "                                                    y,\n",
    "                                                    test_size=0.2, # 0.3 = 20 percent of data wil be test and 80 percent will be train)\n",
    "                                                    random_state=42) # similar to torch.manual_seed"
   ]
  },
  {
   "cell_type": "code",
   "execution_count": 17,
   "metadata": {},
   "outputs": [
    {
     "data": {
      "text/plain": [
       "(800, 200, 800, 200)"
      ]
     },
     "execution_count": 17,
     "metadata": {},
     "output_type": "execute_result"
    }
   ],
   "source": [
    "len(X_train), len(X_test), len(y_train), len(y_test)"
   ]
  },
  {
   "cell_type": "code",
   "execution_count": 18,
   "metadata": {},
   "outputs": [
    {
     "data": {
      "text/plain": [
       "1000"
      ]
     },
     "execution_count": 18,
     "metadata": {},
     "output_type": "execute_result"
    }
   ],
   "source": [
    "n_samples"
   ]
  },
  {
   "attachments": {},
   "cell_type": "markdown",
   "metadata": {},
   "source": [
    "## 2.  Building a model\n",
    "\n",
    "Let's build a model to classify our blue and red dots.\n",
    "\n",
    "to do so, we want to:\n",
    "1. Setup device agnostic code so our code will run on a GPU accelerator if there is one!\n",
    "2. Contruct a model (by subclassing `nn.Module`)\n",
    "3. Define a loss function and optimizer\n",
    "4. Create a training and test loop"
   ]
  },
  {
   "cell_type": "code",
   "execution_count": 19,
   "metadata": {},
   "outputs": [
    {
     "data": {
      "text/plain": [
       "'cpu'"
      ]
     },
     "execution_count": 19,
     "metadata": {},
     "output_type": "execute_result"
    }
   ],
   "source": [
    "# Import PyTorch and nn\n",
    "import torch\n",
    "from torch import nn\n",
    "#Make device agnostic code\n",
    "device  = \"cude\" if torch.cuda.is_available() else \"cpu\"\n",
    "device\n"
   ]
  },
  {
   "cell_type": "code",
   "execution_count": 20,
   "metadata": {},
   "outputs": [
    {
     "data": {
      "text/plain": [
       "tensor([[ 0.6579, -0.4651],\n",
       "        [ 0.6319, -0.7347],\n",
       "        [-1.0086, -0.1240],\n",
       "        ...,\n",
       "        [ 0.0157, -1.0300],\n",
       "        [ 1.0110,  0.1680],\n",
       "        [ 0.5578, -0.5709]])"
      ]
     },
     "execution_count": 20,
     "metadata": {},
     "output_type": "execute_result"
    }
   ],
   "source": [
    "X_train"
   ]
  },
  {
   "attachments": {},
   "cell_type": "markdown",
   "metadata": {},
   "source": [
    "Now we have setup device agnostic code, let's create  model that:\n",
    "\n",
    "1. Subclasses `nn.Module` (almost all models in PyTorch subclass `nn.Module`)\n",
    "2. Create 2 `nn.Linear()` layers that are capable of handling the shapes of our data\n",
    "3. Define a `forward()` method that woutlines the forward pass (or forward computation) of our model\n",
    "4. Instantiate and instace of our model class and sent it to the target device\n"
   ]
  },
  {
   "cell_type": "code",
   "execution_count": 21,
   "metadata": {},
   "outputs": [
    {
     "data": {
      "text/plain": [
       "CircleModelV0(\n",
       "  (layer_1): Linear(in_features=2, out_features=5, bias=True)\n",
       "  (layer_2): Linear(in_features=5, out_features=1, bias=True)\n",
       ")"
      ]
     },
     "execution_count": 21,
     "metadata": {},
     "output_type": "execute_result"
    }
   ],
   "source": [
    "# 1. Construct a model that sublcasses nn.Module\n",
    "class CircleModelV0(nn.Module):\n",
    "    def __init__(self):\n",
    "        super().__init__()\n",
    "        #2. Create 2 nn.Linear layers capable of handling the shapes of our data\n",
    "        self.layer_1 = nn.Linear(in_features=2, out_features=5) # takes in 2 features and upscales to 5 values\n",
    "        self.layer_2 = nn.Linear(in_features=5, out_features=1) #takes in 5 features from previous layer and outputs a single feature (same shape as y)\n",
    "\n",
    "        \"\"\"\n",
    "        self.two_linear_layers = nn.Sequential(\n",
    "            nn.Linear(in_features=2, out_features=5),\n",
    "            nn.Linear(in_features=5, out_features=1)\n",
    "            ).to(device)\n",
    "        \"\"\"\n",
    "\n",
    "    # 3. Define a forward() method that outlines the forward pass\n",
    "    def forward(self, x):\n",
    "        return self.layer_2(self.layer_1(x))  #x -> layer_1 -> layer2 -> output\n",
    "    \n",
    "#4. Instantiate an instance of our model class and send it to the target device\n",
    "model_0 = CircleModelV0().to(device)\n",
    "model_0"
   ]
  },
  {
   "cell_type": "code",
   "execution_count": 22,
   "metadata": {},
   "outputs": [
    {
     "data": {
      "text/plain": [
       "'cpu'"
      ]
     },
     "execution_count": 22,
     "metadata": {},
     "output_type": "execute_result"
    }
   ],
   "source": [
    "device"
   ]
  },
  {
   "cell_type": "code",
   "execution_count": 23,
   "metadata": {},
   "outputs": [
    {
     "data": {
      "text/plain": [
       "device(type='cpu')"
      ]
     },
     "execution_count": 23,
     "metadata": {},
     "output_type": "execute_result"
    }
   ],
   "source": [
    "next(model_0.parameters()).device"
   ]
  },
  {
   "cell_type": "code",
   "execution_count": 24,
   "metadata": {},
   "outputs": [
    {
     "data": {
      "text/plain": [
       "Sequential(\n",
       "  (0): Linear(in_features=2, out_features=5, bias=True)\n",
       "  (1): Linear(in_features=5, out_features=1, bias=True)\n",
       ")"
      ]
     },
     "execution_count": 24,
     "metadata": {},
     "output_type": "execute_result"
    }
   ],
   "source": [
    "# Let's replicate the model above using nn.Sequential()\n",
    "model_0 = nn.Sequential(\n",
    "    nn.Linear(in_features=2, out_features=5),\n",
    "    nn.Linear(in_features=5, out_features=1)\n",
    ").to(device)\n",
    "\n",
    "#Sublclassing is usually useful because complex systems are easier to see\n",
    "model_0"
   ]
  },
  {
   "cell_type": "code",
   "execution_count": 25,
   "metadata": {},
   "outputs": [
    {
     "data": {
      "text/plain": [
       "OrderedDict([('0.weight',\n",
       "              tensor([[-0.5376, -0.1915],\n",
       "                      [-0.4897, -0.4621],\n",
       "                      [ 0.3128,  0.6470],\n",
       "                      [ 0.1486,  0.3906],\n",
       "                      [-0.1783, -0.1992]])),\n",
       "             ('0.bias', tensor([ 0.3112,  0.6185, -0.3168,  0.2725, -0.1699])),\n",
       "             ('1.weight',\n",
       "              tensor([[ 0.3015, -0.3445, -0.1177,  0.0034,  0.4121]])),\n",
       "             ('1.bias', tensor([-0.4192]))])"
      ]
     },
     "execution_count": 25,
     "metadata": {},
     "output_type": "execute_result"
    }
   ],
   "source": [
    "model_0.state_dict()"
   ]
  },
  {
   "cell_type": "code",
   "execution_count": 26,
   "metadata": {},
   "outputs": [
    {
     "name": "stdout",
     "output_type": "stream",
     "text": [
      "Length of predicitons: 200, Shape: torch.Size([200, 1])\n",
      "Length of test samples: 200, Shape: torch.Size([200, 2])\n",
      "\n",
      "First 10 predictions: \n",
      "tensor([[-1.],\n",
      "        [-1.],\n",
      "        [-0.],\n",
      "        [-1.],\n",
      "        [-1.],\n",
      "        [-1.],\n",
      "        [-1.],\n",
      "        [-1.],\n",
      "        [-0.],\n",
      "        [-1.]])\n",
      "\n",
      "First 10 labels:\n",
      "tensor([1., 0., 1., 0., 1., 1., 0., 0., 1., 0.])\n"
     ]
    }
   ],
   "source": [
    "# Make predicitons \n",
    "with torch.inference_mode():\n",
    "    untrained_preds = model_0(X_test.to(device))\n",
    "print(f\"Length of predicitons: {len(untrained_preds)}, Shape: {untrained_preds.shape}\")\n",
    "print(f\"Length of test samples: {len(X_test)}, Shape: {X_test.shape}\")\n",
    "print(f\"\\nFirst 10 predictions: \\n{torch.round(untrained_preds[:10])}\")\n",
    "print(f\"\\nFirst 10 labels:\\n{y_test[:10]}\")"
   ]
  },
  {
   "cell_type": "code",
   "execution_count": 27,
   "metadata": {},
   "outputs": [
    {
     "data": {
      "text/plain": [
       "(tensor([[-0.3752,  0.6827],\n",
       "         [ 0.0154,  0.9600],\n",
       "         [-0.7028, -0.3147],\n",
       "         [-0.2853,  0.9664],\n",
       "         [ 0.4024, -0.7438],\n",
       "         [ 0.6323, -0.5711],\n",
       "         [ 0.8561,  0.5499],\n",
       "         [ 1.0034,  0.1903],\n",
       "         [-0.7489, -0.2951],\n",
       "         [ 0.0538,  0.9739]]),\n",
       " tensor([1., 0., 1., 0., 1., 1., 0., 0., 1., 0.]))"
      ]
     },
     "execution_count": 27,
     "metadata": {},
     "output_type": "execute_result"
    }
   ],
   "source": [
    "X_test[:10], y_test[:10]"
   ]
  },
  {
   "attachments": {},
   "cell_type": "markdown",
   "metadata": {},
   "source": [
    "## 2.1 Setup loss function and optimizer\n",
    "\n",
    "Which loss fucntion or optimizer should you use?\n",
    "\n",
    "Again... this is problem specific.\n",
    "\n",
    "For example: \n",
    "- MAE or MSE for regressions\n",
    "- BCE or CCC (cross entropy) for classification\n",
    "\n",
    "As a reminder, the loss function measures how *wrong* your model's predictions are.\n",
    "And for optimizers, two of the most common and useful are SGD and Adam, however there are many options.\n",
    "\n",
    "* For the loss function we're going to use `torch.nn.BCEWithLogitsLoss()`, for more on what binary cross entropy is, check out article on towards data science.com\n",
    "\n",
    "* For different optimizers see `torch.optim`\n",
    "\n"
   ]
  },
  {
   "cell_type": "code",
   "execution_count": 28,
   "metadata": {},
   "outputs": [],
   "source": [
    "# Setup the loss function\n",
    "\n",
    "#loss_fn = nn.BCELoss() # Requires inputs to have fone through sigmoid avtication function prior to inputing it into BCE\n",
    "loss_fn = nn.BCEWithLogitsLoss() # BCEWithLogitsLoss = sigmoid function built-in\n",
    "\n",
    "optimizer = torch.optim.SGD(params=model_0.parameters(),\n",
    "                            lr=0.01)\n"
   ]
  },
  {
   "cell_type": "code",
   "execution_count": 29,
   "metadata": {},
   "outputs": [
    {
     "data": {
      "text/plain": [
       "OrderedDict([('0.weight',\n",
       "              tensor([[-0.5376, -0.1915],\n",
       "                      [-0.4897, -0.4621],\n",
       "                      [ 0.3128,  0.6470],\n",
       "                      [ 0.1486,  0.3906],\n",
       "                      [-0.1783, -0.1992]])),\n",
       "             ('0.bias', tensor([ 0.3112,  0.6185, -0.3168,  0.2725, -0.1699])),\n",
       "             ('1.weight',\n",
       "              tensor([[ 0.3015, -0.3445, -0.1177,  0.0034,  0.4121]])),\n",
       "             ('1.bias', tensor([-0.4192]))])"
      ]
     },
     "execution_count": 29,
     "metadata": {},
     "output_type": "execute_result"
    }
   ],
   "source": [
    "model_0.state_dict()"
   ]
  },
  {
   "cell_type": "code",
   "execution_count": 30,
   "metadata": {},
   "outputs": [],
   "source": [
    "# Calculate accuracy - out of 100 examples what percentage does our model get right?\n",
    "def accuracy_fn(y_true, y_pred):\n",
    "    correct = torch.eq(y_true, y_pred).sum().item()\n",
    "    acc = (correct/len(y_pred)) * 100\n",
    "    return acc"
   ]
  },
  {
   "attachments": {},
   "cell_type": "markdown",
   "metadata": {},
   "source": [
    "## Train Model\n",
    "To train our model we're going to need to build a training loop with the following steps:\n",
    "\n",
    "1. Forward pass\n",
    "2. Calculate the loss\n",
    "3. Optimizer zero grad\n",
    "4. Loss backward (backpropagation)\n",
    "5. Optimizer step(gradient descent)\n"
   ]
  },
  {
   "attachments": {},
   "cell_type": "markdown",
   "metadata": {},
   "source": [
    "### 3.1 Going from raw logits -> prediction probabilites - > prediction lables\n",
    "\n",
    "Out model outputs are going to be raw **logits.**\n",
    "We can concert these **logits** into prediction probablitlites by passing them to some kind of actiavation function (e.g. sigmoid for binary classification and softmax for multiclass classification).\n",
    "\n",
    "Then we can convert our model's prediction probabilities to **prediction labels** by either rounding them or taking the `argmax()`."
   ]
  },
  {
   "cell_type": "code",
   "execution_count": 31,
   "metadata": {},
   "outputs": [
    {
     "data": {
      "text/plain": [
       "tensor([[-0.5694],\n",
       "        [-0.6251],\n",
       "        [-0.4804],\n",
       "        [-0.5944],\n",
       "        [-0.5706],\n",
       "        [-0.6038],\n",
       "        [-0.6890],\n",
       "        [-0.6843],\n",
       "        [-0.4767],\n",
       "        [-0.6298],\n",
       "        [-0.5655],\n",
       "        [-0.5881],\n",
       "        [-0.6907],\n",
       "        [-0.4782],\n",
       "        [-0.4627],\n",
       "        [-0.6455],\n",
       "        [-0.6477],\n",
       "        [-0.5394],\n",
       "        [-0.5405],\n",
       "        [-0.5103],\n",
       "        [-0.6263],\n",
       "        [-0.6622],\n",
       "        [-0.5252],\n",
       "        [-0.5175],\n",
       "        [-0.6773],\n",
       "        [-0.6826],\n",
       "        [-0.4927],\n",
       "        [-0.6300],\n",
       "        [-0.4546],\n",
       "        [-0.4926],\n",
       "        [-0.6606],\n",
       "        [-0.6754],\n",
       "        [-0.5759],\n",
       "        [-0.5334],\n",
       "        [-0.5659],\n",
       "        [-0.6264],\n",
       "        [-0.5891],\n",
       "        [-0.4769],\n",
       "        [-0.5155],\n",
       "        [-0.4835],\n",
       "        [-0.5188],\n",
       "        [-0.4806],\n",
       "        [-0.6470],\n",
       "        [-0.5641],\n",
       "        [-0.5789],\n",
       "        [-0.6336],\n",
       "        [-0.5856],\n",
       "        [-0.6259],\n",
       "        [-0.6160],\n",
       "        [-0.5902],\n",
       "        [-0.5902],\n",
       "        [-0.5822],\n",
       "        [-0.6412],\n",
       "        [-0.5476],\n",
       "        [-0.6620],\n",
       "        [-0.4877],\n",
       "        [-0.6618],\n",
       "        [-0.4739],\n",
       "        [-0.4957],\n",
       "        [-0.4760],\n",
       "        [-0.5877],\n",
       "        [-0.6826],\n",
       "        [-0.4816],\n",
       "        [-0.4831],\n",
       "        [-0.5783],\n",
       "        [-0.6124],\n",
       "        [-0.6458],\n",
       "        [-0.6687],\n",
       "        [-0.6440],\n",
       "        [-0.6577],\n",
       "        [-0.6202],\n",
       "        [-0.6545],\n",
       "        [-0.4687],\n",
       "        [-0.4824],\n",
       "        [-0.6575],\n",
       "        [-0.6144],\n",
       "        [-0.5198],\n",
       "        [-0.6826],\n",
       "        [-0.5552],\n",
       "        [-0.6625],\n",
       "        [-0.5090],\n",
       "        [-0.5733],\n",
       "        [-0.6774],\n",
       "        [-0.5157],\n",
       "        [-0.5010],\n",
       "        [-0.6489],\n",
       "        [-0.5969],\n",
       "        [-0.4676],\n",
       "        [-0.5302],\n",
       "        [-0.6642],\n",
       "        [-0.4690],\n",
       "        [-0.5274],\n",
       "        [-0.5198],\n",
       "        [-0.5603],\n",
       "        [-0.4749],\n",
       "        [-0.5424],\n",
       "        [-0.6253],\n",
       "        [-0.4824],\n",
       "        [-0.5046],\n",
       "        [-0.5415],\n",
       "        [-0.6324],\n",
       "        [-0.4497],\n",
       "        [-0.6423],\n",
       "        [-0.6619],\n",
       "        [-0.4916],\n",
       "        [-0.5193],\n",
       "        [-0.5121],\n",
       "        [-0.6865],\n",
       "        [-0.4645],\n",
       "        [-0.6351],\n",
       "        [-0.6131],\n",
       "        [-0.5468],\n",
       "        [-0.6635],\n",
       "        [-0.6005],\n",
       "        [-0.6594],\n",
       "        [-0.4939],\n",
       "        [-0.4947],\n",
       "        [-0.4537],\n",
       "        [-0.5003],\n",
       "        [-0.5024],\n",
       "        [-0.5095],\n",
       "        [-0.5088],\n",
       "        [-0.6374],\n",
       "        [-0.4946],\n",
       "        [-0.6331],\n",
       "        [-0.4806],\n",
       "        [-0.4800],\n",
       "        [-0.6520],\n",
       "        [-0.6099],\n",
       "        [-0.6623],\n",
       "        [-0.4884],\n",
       "        [-0.6858],\n",
       "        [-0.5225],\n",
       "        [-0.6478],\n",
       "        [-0.6596],\n",
       "        [-0.6838],\n",
       "        [-0.5455],\n",
       "        [-0.4703],\n",
       "        [-0.4847],\n",
       "        [-0.6453],\n",
       "        [-0.4521],\n",
       "        [-0.6772],\n",
       "        [-0.5220],\n",
       "        [-0.4803],\n",
       "        [-0.4500],\n",
       "        [-0.5346],\n",
       "        [-0.6655],\n",
       "        [-0.4543],\n",
       "        [-0.6536],\n",
       "        [-0.5982],\n",
       "        [-0.6273],\n",
       "        [-0.6808],\n",
       "        [-0.4811],\n",
       "        [-0.4600],\n",
       "        [-0.6443],\n",
       "        [-0.6380],\n",
       "        [-0.6582],\n",
       "        [-0.4544],\n",
       "        [-0.4598],\n",
       "        [-0.4742],\n",
       "        [-0.5867],\n",
       "        [-0.6423],\n",
       "        [-0.4894],\n",
       "        [-0.5350],\n",
       "        [-0.6477],\n",
       "        [-0.5773],\n",
       "        [-0.6726],\n",
       "        [-0.4629],\n",
       "        [-0.6132],\n",
       "        [-0.6430],\n",
       "        [-0.6542],\n",
       "        [-0.6455],\n",
       "        [-0.6654],\n",
       "        [-0.6370],\n",
       "        [-0.6888],\n",
       "        [-0.6201],\n",
       "        [-0.5400],\n",
       "        [-0.6714],\n",
       "        [-0.6514],\n",
       "        [-0.5466],\n",
       "        [-0.5819],\n",
       "        [-0.4858],\n",
       "        [-0.6759],\n",
       "        [-0.4864],\n",
       "        [-0.5030],\n",
       "        [-0.4957],\n",
       "        [-0.6158],\n",
       "        [-0.6814],\n",
       "        [-0.5964],\n",
       "        [-0.5737],\n",
       "        [-0.4709],\n",
       "        [-0.4795],\n",
       "        [-0.6541],\n",
       "        [-0.6761],\n",
       "        [-0.4853],\n",
       "        [-0.6823],\n",
       "        [-0.5076],\n",
       "        [-0.6650],\n",
       "        [-0.5241],\n",
       "        [-0.6440]])"
      ]
     },
     "execution_count": 31,
     "metadata": {},
     "output_type": "execute_result"
    }
   ],
   "source": [
    "# View the first 5 outputs of the forward pass on the test data\n",
    "model_0.eval()\n",
    "with torch.inference_mode():\n",
    "    y_logits = model_0(X_test.to(device))\n",
    "y_logits"
   ]
  },
  {
   "cell_type": "code",
   "execution_count": 32,
   "metadata": {},
   "outputs": [
    {
     "data": {
      "text/plain": [
       "tensor([1., 0., 1., 0., 1.])"
      ]
     },
     "execution_count": 32,
     "metadata": {},
     "output_type": "execute_result"
    }
   ],
   "source": [
    "y_test[:5]"
   ]
  },
  {
   "cell_type": "code",
   "execution_count": 33,
   "metadata": {},
   "outputs": [
    {
     "data": {
      "text/plain": [
       "tensor([[0.3614],\n",
       "        [0.3486],\n",
       "        [0.3822],\n",
       "        [0.3556],\n",
       "        [0.3611],\n",
       "        [0.3535],\n",
       "        [0.3342],\n",
       "        [0.3353],\n",
       "        [0.3830],\n",
       "        [0.3476],\n",
       "        [0.3623],\n",
       "        [0.3571],\n",
       "        [0.3339],\n",
       "        [0.3827],\n",
       "        [0.3864],\n",
       "        [0.3440],\n",
       "        [0.3435],\n",
       "        [0.3683],\n",
       "        [0.3681],\n",
       "        [0.3751],\n",
       "        [0.3484],\n",
       "        [0.3403],\n",
       "        [0.3716],\n",
       "        [0.3734],\n",
       "        [0.3369],\n",
       "        [0.3357],\n",
       "        [0.3793],\n",
       "        [0.3475],\n",
       "        [0.3883],\n",
       "        [0.3793],\n",
       "        [0.3406],\n",
       "        [0.3373],\n",
       "        [0.3599],\n",
       "        [0.3697],\n",
       "        [0.3622],\n",
       "        [0.3483],\n",
       "        [0.3569],\n",
       "        [0.3830],\n",
       "        [0.3739],\n",
       "        [0.3814],\n",
       "        [0.3731],\n",
       "        [0.3821],\n",
       "        [0.3437],\n",
       "        [0.3626],\n",
       "        [0.3592],\n",
       "        [0.3467],\n",
       "        [0.3576],\n",
       "        [0.3484],\n",
       "        [0.3507],\n",
       "        [0.3566],\n",
       "        [0.3566],\n",
       "        [0.3584],\n",
       "        [0.3450],\n",
       "        [0.3664],\n",
       "        [0.3403],\n",
       "        [0.3804],\n",
       "        [0.3403],\n",
       "        [0.3837],\n",
       "        [0.3786],\n",
       "        [0.3832],\n",
       "        [0.3572],\n",
       "        [0.3357],\n",
       "        [0.3819],\n",
       "        [0.3815],\n",
       "        [0.3593],\n",
       "        [0.3515],\n",
       "        [0.3439],\n",
       "        [0.3388],\n",
       "        [0.3443],\n",
       "        [0.3413],\n",
       "        [0.3497],\n",
       "        [0.3420],\n",
       "        [0.3849],\n",
       "        [0.3817],\n",
       "        [0.3413],\n",
       "        [0.3511],\n",
       "        [0.3729],\n",
       "        [0.3357],\n",
       "        [0.3647],\n",
       "        [0.3402],\n",
       "        [0.3754],\n",
       "        [0.3605],\n",
       "        [0.3368],\n",
       "        [0.3739],\n",
       "        [0.3773],\n",
       "        [0.3432],\n",
       "        [0.3551],\n",
       "        [0.3852],\n",
       "        [0.3705],\n",
       "        [0.3398],\n",
       "        [0.3849],\n",
       "        [0.3711],\n",
       "        [0.3729],\n",
       "        [0.3635],\n",
       "        [0.3835],\n",
       "        [0.3676],\n",
       "        [0.3486],\n",
       "        [0.3817],\n",
       "        [0.3765],\n",
       "        [0.3678],\n",
       "        [0.3470],\n",
       "        [0.3894],\n",
       "        [0.3447],\n",
       "        [0.3403],\n",
       "        [0.3795],\n",
       "        [0.3730],\n",
       "        [0.3747],\n",
       "        [0.3348],\n",
       "        [0.3859],\n",
       "        [0.3464],\n",
       "        [0.3513],\n",
       "        [0.3666],\n",
       "        [0.3400],\n",
       "        [0.3542],\n",
       "        [0.3409],\n",
       "        [0.3790],\n",
       "        [0.3788],\n",
       "        [0.3885],\n",
       "        [0.3775],\n",
       "        [0.3770],\n",
       "        [0.3753],\n",
       "        [0.3755],\n",
       "        [0.3458],\n",
       "        [0.3788],\n",
       "        [0.3468],\n",
       "        [0.3821],\n",
       "        [0.3823],\n",
       "        [0.3425],\n",
       "        [0.3521],\n",
       "        [0.3402],\n",
       "        [0.3803],\n",
       "        [0.3350],\n",
       "        [0.3723],\n",
       "        [0.3435],\n",
       "        [0.3408],\n",
       "        [0.3354],\n",
       "        [0.3669],\n",
       "        [0.3845],\n",
       "        [0.3811],\n",
       "        [0.3440],\n",
       "        [0.3889],\n",
       "        [0.3369],\n",
       "        [0.3724],\n",
       "        [0.3822],\n",
       "        [0.3894],\n",
       "        [0.3694],\n",
       "        [0.3395],\n",
       "        [0.3883],\n",
       "        [0.3422],\n",
       "        [0.3548],\n",
       "        [0.3481],\n",
       "        [0.3361],\n",
       "        [0.3820],\n",
       "        [0.3870],\n",
       "        [0.3443],\n",
       "        [0.3457],\n",
       "        [0.3412],\n",
       "        [0.3883],\n",
       "        [0.3870],\n",
       "        [0.3836],\n",
       "        [0.3574],\n",
       "        [0.3447],\n",
       "        [0.3800],\n",
       "        [0.3693],\n",
       "        [0.3435],\n",
       "        [0.3596],\n",
       "        [0.3379],\n",
       "        [0.3863],\n",
       "        [0.3513],\n",
       "        [0.3446],\n",
       "        [0.3420],\n",
       "        [0.3440],\n",
       "        [0.3395],\n",
       "        [0.3459],\n",
       "        [0.3343],\n",
       "        [0.3498],\n",
       "        [0.3682],\n",
       "        [0.3382],\n",
       "        [0.3427],\n",
       "        [0.3667],\n",
       "        [0.3585],\n",
       "        [0.3809],\n",
       "        [0.3372],\n",
       "        [0.3807],\n",
       "        [0.3768],\n",
       "        [0.3785],\n",
       "        [0.3507],\n",
       "        [0.3360],\n",
       "        [0.3552],\n",
       "        [0.3604],\n",
       "        [0.3844],\n",
       "        [0.3824],\n",
       "        [0.3421],\n",
       "        [0.3371],\n",
       "        [0.3810],\n",
       "        [0.3357],\n",
       "        [0.3758],\n",
       "        [0.3396],\n",
       "        [0.3719],\n",
       "        [0.3443]])"
      ]
     },
     "execution_count": 33,
     "metadata": {},
     "output_type": "execute_result"
    }
   ],
   "source": [
    "# Use the sigmoid activation function on our model logits to turn them into prediction probabilites\n",
    "y_pred_probs= torch.sigmoid(y_logits)\n",
    "y_pred_probs"
   ]
  },
  {
   "cell_type": "code",
   "execution_count": 34,
   "metadata": {},
   "outputs": [
    {
     "data": {
      "text/plain": [
       "tensor([[0.],\n",
       "        [0.],\n",
       "        [0.],\n",
       "        [0.],\n",
       "        [0.],\n",
       "        [0.],\n",
       "        [0.],\n",
       "        [0.],\n",
       "        [0.],\n",
       "        [0.],\n",
       "        [0.],\n",
       "        [0.],\n",
       "        [0.],\n",
       "        [0.],\n",
       "        [0.],\n",
       "        [0.],\n",
       "        [0.],\n",
       "        [0.],\n",
       "        [0.],\n",
       "        [0.],\n",
       "        [0.],\n",
       "        [0.],\n",
       "        [0.],\n",
       "        [0.],\n",
       "        [0.],\n",
       "        [0.],\n",
       "        [0.],\n",
       "        [0.],\n",
       "        [0.],\n",
       "        [0.],\n",
       "        [0.],\n",
       "        [0.],\n",
       "        [0.],\n",
       "        [0.],\n",
       "        [0.],\n",
       "        [0.],\n",
       "        [0.],\n",
       "        [0.],\n",
       "        [0.],\n",
       "        [0.],\n",
       "        [0.],\n",
       "        [0.],\n",
       "        [0.],\n",
       "        [0.],\n",
       "        [0.],\n",
       "        [0.],\n",
       "        [0.],\n",
       "        [0.],\n",
       "        [0.],\n",
       "        [0.],\n",
       "        [0.],\n",
       "        [0.],\n",
       "        [0.],\n",
       "        [0.],\n",
       "        [0.],\n",
       "        [0.],\n",
       "        [0.],\n",
       "        [0.],\n",
       "        [0.],\n",
       "        [0.],\n",
       "        [0.],\n",
       "        [0.],\n",
       "        [0.],\n",
       "        [0.],\n",
       "        [0.],\n",
       "        [0.],\n",
       "        [0.],\n",
       "        [0.],\n",
       "        [0.],\n",
       "        [0.],\n",
       "        [0.],\n",
       "        [0.],\n",
       "        [0.],\n",
       "        [0.],\n",
       "        [0.],\n",
       "        [0.],\n",
       "        [0.],\n",
       "        [0.],\n",
       "        [0.],\n",
       "        [0.],\n",
       "        [0.],\n",
       "        [0.],\n",
       "        [0.],\n",
       "        [0.],\n",
       "        [0.],\n",
       "        [0.],\n",
       "        [0.],\n",
       "        [0.],\n",
       "        [0.],\n",
       "        [0.],\n",
       "        [0.],\n",
       "        [0.],\n",
       "        [0.],\n",
       "        [0.],\n",
       "        [0.],\n",
       "        [0.],\n",
       "        [0.],\n",
       "        [0.],\n",
       "        [0.],\n",
       "        [0.],\n",
       "        [0.],\n",
       "        [0.],\n",
       "        [0.],\n",
       "        [0.],\n",
       "        [0.],\n",
       "        [0.],\n",
       "        [0.],\n",
       "        [0.],\n",
       "        [0.],\n",
       "        [0.],\n",
       "        [0.],\n",
       "        [0.],\n",
       "        [0.],\n",
       "        [0.],\n",
       "        [0.],\n",
       "        [0.],\n",
       "        [0.],\n",
       "        [0.],\n",
       "        [0.],\n",
       "        [0.],\n",
       "        [0.],\n",
       "        [0.],\n",
       "        [0.],\n",
       "        [0.],\n",
       "        [0.],\n",
       "        [0.],\n",
       "        [0.],\n",
       "        [0.],\n",
       "        [0.],\n",
       "        [0.],\n",
       "        [0.],\n",
       "        [0.],\n",
       "        [0.],\n",
       "        [0.],\n",
       "        [0.],\n",
       "        [0.],\n",
       "        [0.],\n",
       "        [0.],\n",
       "        [0.],\n",
       "        [0.],\n",
       "        [0.],\n",
       "        [0.],\n",
       "        [0.],\n",
       "        [0.],\n",
       "        [0.],\n",
       "        [0.],\n",
       "        [0.],\n",
       "        [0.],\n",
       "        [0.],\n",
       "        [0.],\n",
       "        [0.],\n",
       "        [0.],\n",
       "        [0.],\n",
       "        [0.],\n",
       "        [0.],\n",
       "        [0.],\n",
       "        [0.],\n",
       "        [0.],\n",
       "        [0.],\n",
       "        [0.],\n",
       "        [0.],\n",
       "        [0.],\n",
       "        [0.],\n",
       "        [0.],\n",
       "        [0.],\n",
       "        [0.],\n",
       "        [0.],\n",
       "        [0.],\n",
       "        [0.],\n",
       "        [0.],\n",
       "        [0.],\n",
       "        [0.],\n",
       "        [0.],\n",
       "        [0.],\n",
       "        [0.],\n",
       "        [0.],\n",
       "        [0.],\n",
       "        [0.],\n",
       "        [0.],\n",
       "        [0.],\n",
       "        [0.],\n",
       "        [0.],\n",
       "        [0.],\n",
       "        [0.],\n",
       "        [0.],\n",
       "        [0.],\n",
       "        [0.],\n",
       "        [0.],\n",
       "        [0.],\n",
       "        [0.],\n",
       "        [0.],\n",
       "        [0.],\n",
       "        [0.],\n",
       "        [0.],\n",
       "        [0.],\n",
       "        [0.],\n",
       "        [0.],\n",
       "        [0.],\n",
       "        [0.],\n",
       "        [0.]])"
      ]
     },
     "execution_count": 34,
     "metadata": {},
     "output_type": "execute_result"
    }
   ],
   "source": [
    "torch.round(y_pred_probs)"
   ]
  },
  {
   "attachments": {},
   "cell_type": "markdown",
   "metadata": {},
   "source": [
    "For our prediction probability values, we need to perform a range-style rounding on them:\n",
    "* `y_pred_probs` >= 0.5, `y=1` (class 1)\n",
    "* `y_pred_prob` < 0.5, `y=0` (class 0)"
   ]
  },
  {
   "cell_type": "code",
   "execution_count": 35,
   "metadata": {},
   "outputs": [
    {
     "name": "stdout",
     "output_type": "stream",
     "text": [
      "tensor([True, True, True, True, True, True, True, True, True, True, True, True,\n",
      "        True, True, True, True, True, True, True, True, True, True, True, True,\n",
      "        True, True, True, True, True, True, True, True, True, True, True, True,\n",
      "        True, True, True, True, True, True, True, True, True, True, True, True,\n",
      "        True, True, True, True, True, True, True, True, True, True, True, True,\n",
      "        True, True, True, True, True, True, True, True, True, True, True, True,\n",
      "        True, True, True, True, True, True, True, True, True, True, True, True,\n",
      "        True, True, True, True, True, True, True, True, True, True, True, True,\n",
      "        True, True, True, True, True, True, True, True, True, True, True, True,\n",
      "        True, True, True, True, True, True, True, True, True, True, True, True,\n",
      "        True, True, True, True, True, True, True, True, True, True, True, True,\n",
      "        True, True, True, True, True, True, True, True, True, True, True, True,\n",
      "        True, True, True, True, True, True, True, True, True, True, True, True,\n",
      "        True, True, True, True, True, True, True, True, True, True, True, True,\n",
      "        True, True, True, True, True, True, True, True, True, True, True, True,\n",
      "        True, True, True, True, True, True, True, True, True, True, True, True,\n",
      "        True, True, True, True, True, True, True, True])\n"
     ]
    },
    {
     "data": {
      "text/plain": [
       "tensor([0., 0., 0., 0., 0., 0., 0., 0., 0., 0., 0., 0., 0., 0., 0., 0., 0., 0., 0., 0., 0., 0., 0., 0.,\n",
       "        0., 0., 0., 0., 0., 0., 0., 0., 0., 0., 0., 0., 0., 0., 0., 0., 0., 0., 0., 0., 0., 0., 0., 0.,\n",
       "        0., 0., 0., 0., 0., 0., 0., 0., 0., 0., 0., 0., 0., 0., 0., 0., 0., 0., 0., 0., 0., 0., 0., 0.,\n",
       "        0., 0., 0., 0., 0., 0., 0., 0., 0., 0., 0., 0., 0., 0., 0., 0., 0., 0., 0., 0., 0., 0., 0., 0.,\n",
       "        0., 0., 0., 0., 0., 0., 0., 0., 0., 0., 0., 0., 0., 0., 0., 0., 0., 0., 0., 0., 0., 0., 0., 0.,\n",
       "        0., 0., 0., 0., 0., 0., 0., 0., 0., 0., 0., 0., 0., 0., 0., 0., 0., 0., 0., 0., 0., 0., 0., 0.,\n",
       "        0., 0., 0., 0., 0., 0., 0., 0., 0., 0., 0., 0., 0., 0., 0., 0., 0., 0., 0., 0., 0., 0., 0., 0.,\n",
       "        0., 0., 0., 0., 0., 0., 0., 0., 0., 0., 0., 0., 0., 0., 0., 0., 0., 0., 0., 0., 0., 0., 0., 0.,\n",
       "        0., 0., 0., 0., 0., 0., 0., 0.])"
      ]
     },
     "execution_count": 35,
     "metadata": {},
     "output_type": "execute_result"
    }
   ],
   "source": [
    "# Find the predicted labels \n",
    "y_preds = torch.round(y_pred_probs)\n",
    "\n",
    "#In full\n",
    "y_pred_labels = torch.round(torch.sigmoid(model_0(X_test.to(device))))\n",
    "\n",
    "# Check for equality\n",
    "print(torch.eq(y_preds.squeeze(), y_pred_labels.squeeze()))\n",
    "\n",
    "# Get rid of the extra dimension\n",
    "y_preds.squeeze()\n"
   ]
  },
  {
   "attachments": {},
   "cell_type": "markdown",
   "metadata": {},
   "source": [
    "## 3.2 Building a training and testing loop"
   ]
  },
  {
   "cell_type": "code",
   "execution_count": 36,
   "metadata": {},
   "outputs": [
    {
     "data": {
      "text/plain": [
       "'cpu'"
      ]
     },
     "execution_count": 36,
     "metadata": {},
     "output_type": "execute_result"
    }
   ],
   "source": [
    "device"
   ]
  },
  {
   "cell_type": "code",
   "execution_count": 73,
   "metadata": {},
   "outputs": [
    {
     "name": "stdout",
     "output_type": "stream",
     "text": [
      "EpochL 0 | Loss: 0.69299, Acc50.750000% | Test loss:  0.69468, Test acc:  42.00%\n",
      "EpochL 10 | Loss: 0.69299, Acc50.750000% | Test loss:  0.69468, Test acc:  42.00%\n",
      "EpochL 20 | Loss: 0.69299, Acc50.875000% | Test loss:  0.69468, Test acc:  42.50%\n",
      "EpochL 30 | Loss: 0.69299, Acc50.875000% | Test loss:  0.69468, Test acc:  42.50%\n",
      "EpochL 40 | Loss: 0.69299, Acc50.750000% | Test loss:  0.69468, Test acc:  43.00%\n",
      "EpochL 50 | Loss: 0.69299, Acc50.750000% | Test loss:  0.69468, Test acc:  43.00%\n",
      "EpochL 60 | Loss: 0.69299, Acc50.750000% | Test loss:  0.69468, Test acc:  43.00%\n",
      "EpochL 70 | Loss: 0.69299, Acc50.750000% | Test loss:  0.69468, Test acc:  43.00%\n",
      "EpochL 80 | Loss: 0.69299, Acc50.750000% | Test loss:  0.69468, Test acc:  43.00%\n",
      "EpochL 90 | Loss: 0.69299, Acc50.750000% | Test loss:  0.69469, Test acc:  43.00%\n"
     ]
    }
   ],
   "source": [
    "torch.manual_seed(42)\n",
    "torch.cuda.manual_seed(42)\n",
    "\n",
    "#Set the number of epochs\n",
    "epochs = 100\n",
    "\n",
    "# Put data to target device\n",
    "X_train, y_train, = X_train.to(device), y_train.to(device)\n",
    "X_test, y_test = X_test.to(device), y_test.to(device)\n",
    "\n",
    "#Build Training and evaluation loop\n",
    "for epoch in range(epochs):\n",
    "    ### Training\n",
    "    model_0.train()\n",
    "\n",
    "    # 1. Forward pass\n",
    "    y_logits = model_0(X_train).squeeze()\n",
    "    y_pred = torch.round(torch.sigmoid(y_logits)) # turn logits -> pred probs -> pred labels\n",
    "\n",
    "    # 2. Calculate loss/accuracy\n",
    "    loss = loss_fn(torch.sigmoid(y_logits),  # nn. BCELoss exprects prediction probabilites as input\n",
    "                   y_train)\n",
    "    loss = loss_fn(y_logits,  # nn.BCEWithLogitsLoss expects raw logits as input\n",
    "                   y_train)\n",
    "    acc = accuracy_fn(y_true=y_train, y_pred=y_pred)\n",
    "    \n",
    "    # 3. Optimizer zero grad\n",
    "    optimizer.zero_grad()\n",
    "\n",
    "    #4. Loss backward (backpropagation)\n",
    "    loss.backward()\n",
    "\n",
    "    #5. Optimizer step (gradient descent)\n",
    "    optimizer.step()\n",
    "\n",
    "\n",
    "    ### Testing \n",
    "    model_0.eval()\n",
    "    with torch.inference_mode():\n",
    "        #1. Forward pass\n",
    "        test_logits = model_0(X_test).squeeze()\n",
    "        test_pred = torch.round(torch.sigmoid(test_logits))\n",
    "\n",
    "        #2. Calculate the test loss/axx\n",
    "        test_loss = loss_fn(test_logits,\n",
    "                            y_test)\n",
    "        test_acc = accuracy_fn(y_true=y_test,\n",
    "                               y_pred=y_pred[:len(y_test)])\n",
    "        \n",
    "        #Print out what is happening\n",
    "        if epoch % 10 == 0:\n",
    "        \n",
    "            print(f\"EpochL {epoch} | Loss: {loss:.5f}, Acc{acc:2f}% | Test loss: {test_loss: .5f}, Test acc: {test_acc: .2f}%\")\n",
    "        "
   ]
  },
  {
   "attachments": {},
   "cell_type": "markdown",
   "metadata": {},
   "source": [
    "## 4. Make predictions and evaluate the model\n",
    "\n",
    "From the metric it looks like our model isn't learning anything ...\n",
    "\n",
    "So to inspect ir let's make some predictions and make them visual!\n",
    "\n",
    "In other words, \"Visualize, visualize, visualize!\"\n",
    "\n",
    "To do so, we are going to import a function called `plot_decision_boundary()`\n"
   ]
  },
  {
   "cell_type": "code",
   "execution_count": 74,
   "metadata": {},
   "outputs": [
    {
     "name": "stdout",
     "output_type": "stream",
     "text": [
      "helper functions exists!\n"
     ]
    }
   ],
   "source": [
    "import requests\n",
    "from pathlib import Path\n",
    "\n",
    "#Download helper functions from Learn PyTorch repo (if it is not already downloaded)\n",
    "if(Path(\"helper_functions.py\").is_file()):\n",
    "    print(\"helper functions exists!\")\n",
    "else:\n",
    "    print(\"Download helper_functions.py\")\n",
    "    request = requests.get(\"https://raw.githubusercontent.com/mrdbourke/pytorch-deep-learning/main/helper_functions.py\")\n",
    "    with open(\"helper_functions.py\", \"wb\") as f:\n",
    "        f.write(request.content)\n",
    "\n",
    "from helper_functions import plot_predictions, plot_decision_boundary"
   ]
  },
  {
   "cell_type": "code",
   "execution_count": 75,
   "metadata": {},
   "outputs": [
    {
     "data": {
      "image/png": "[encoded data removed]",
      "text/plain": [
       "<Figure size 1200x600 with 2 Axes>"
      ]
     },
     "metadata": {},
     "output_type": "display_data"
    }
   ],
   "source": [
    "# Plot decision boundary of the model\n",
    "plt.figure(figsize=(12, 6))\n",
    "plt.subplot(1, 2, 1)\n",
    "plt.title(\"Train\")\n",
    "plot_decision_boundary(model_0, X_train, y_train)\n",
    "plt.subplot(1, 2, 2)\n",
    "plt.title(\"Test\")\n",
    "plot_decision_boundary(model_0, X_test, y_test)"
   ]
  },
  {
   "cell_type": "code",
   "execution_count": null,
   "metadata": {},
   "outputs": [],
   "source": []
  }
 ],
 "metadata": {
  "kernelspec": {
   "display_name": "base",
   "language": "python",
   "name": "python3"
  },
  "language_info": {
   "codemirror_mode": {
    "name": "ipython",
    "version": 3
   },
   "file_extension": ".py",
   "mimetype": "text/x-python",
   "name": "python",
   "nbconvert_exporter": "python",
   "pygments_lexer": "ipython3",
   "version": "3.9.13"
  },
  "orig_nbformat": 4,
  "vscode": {
   "interpreter": {
    "hash": "07a481119aadb6992ff0da222930d2b0a8a26de193018adba40c1ff699702765"
   }
  }
 },
 "nbformat": 4,
 "nbformat_minor": 2
}
